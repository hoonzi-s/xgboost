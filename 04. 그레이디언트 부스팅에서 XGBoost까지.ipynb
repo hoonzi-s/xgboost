{
  "cells": [
    {
      "cell_type": "markdown",
      "metadata": {
        "id": "view-in-github",
        "colab_type": "text"
      },
      "source": [
        "<a href=\"https://colab.research.google.com/github/hoonzi-s/xgboost/blob/main/04.%20%EA%B7%B8%EB%A0%88%EC%9D%B4%EB%94%94%EC%96%B8%ED%8A%B8%20%EB%B6%80%EC%8A%A4%ED%8C%85%EC%97%90%EC%84%9C%20XGBoost%EA%B9%8C%EC%A7%80.ipynb\" target=\"_parent\"><img src=\"https://colab.research.google.com/assets/colab-badge.svg\" alt=\"Open In Colab\"/></a>"
      ]
    },
    {
      "cell_type": "code",
      "execution_count": 2,
      "id": "01f25715",
      "metadata": {
        "id": "01f25715"
      },
      "outputs": [],
      "source": [
        "import pandas as pd\n",
        "import numpy as np\n",
        "import matplotlib.pyplot as pyplot\n",
        "import warnings\n",
        "warnings.filterwarnings('ignore')\n",
        "import xgboost as xgb\n",
        "# xgb.set_config(verbosity = 0)"
      ]
    },
    {
      "cell_type": "code",
      "source": [
        "head = 'https://raw.githubusercontent.com/rickiepark/handson-gb/main/Chapter'\n",
        "tail = '04/bike_rentals_cleaned.csv'\n",
        "link = head + tail\n",
        "\n",
        "df_bikes = pd.read_csv(link)\n",
        "df_bikes.head()"
      ],
      "metadata": {
        "id": "6k0VhSB47jWy",
        "outputId": "91ebf0df-681f-4d33-931b-3958cf11e095",
        "colab": {
          "base_uri": "https://localhost:8080/",
          "height": 206
        }
      },
      "id": "6k0VhSB47jWy",
      "execution_count": 4,
      "outputs": [
        {
          "output_type": "execute_result",
          "data": {
            "text/plain": [
              "   instant  season   yr  mnth  holiday  weekday  workingday  weathersit  \\\n",
              "0        1     1.0  0.0   1.0      0.0      6.0         0.0           2   \n",
              "1        2     1.0  0.0   1.0      0.0      0.0         0.0           2   \n",
              "2        3     1.0  0.0   1.0      0.0      1.0         1.0           1   \n",
              "3        4     1.0  0.0   1.0      0.0      2.0         1.0           1   \n",
              "4        5     1.0  0.0   1.0      0.0      3.0         1.0           1   \n",
              "\n",
              "       temp     atemp       hum  windspeed   cnt  \n",
              "0  0.344167  0.363625  0.805833   0.160446   985  \n",
              "1  0.363478  0.353739  0.696087   0.248539   801  \n",
              "2  0.196364  0.189405  0.437273   0.248309  1349  \n",
              "3  0.200000  0.212122  0.590435   0.160296  1562  \n",
              "4  0.226957  0.229270  0.436957   0.186900  1600  "
            ],
            "text/html": [
              "\n",
              "  <div id=\"df-54afe33b-8db6-4f61-bce5-9f75544229e1\">\n",
              "    <div class=\"colab-df-container\">\n",
              "      <div>\n",
              "<style scoped>\n",
              "    .dataframe tbody tr th:only-of-type {\n",
              "        vertical-align: middle;\n",
              "    }\n",
              "\n",
              "    .dataframe tbody tr th {\n",
              "        vertical-align: top;\n",
              "    }\n",
              "\n",
              "    .dataframe thead th {\n",
              "        text-align: right;\n",
              "    }\n",
              "</style>\n",
              "<table border=\"1\" class=\"dataframe\">\n",
              "  <thead>\n",
              "    <tr style=\"text-align: right;\">\n",
              "      <th></th>\n",
              "      <th>instant</th>\n",
              "      <th>season</th>\n",
              "      <th>yr</th>\n",
              "      <th>mnth</th>\n",
              "      <th>holiday</th>\n",
              "      <th>weekday</th>\n",
              "      <th>workingday</th>\n",
              "      <th>weathersit</th>\n",
              "      <th>temp</th>\n",
              "      <th>atemp</th>\n",
              "      <th>hum</th>\n",
              "      <th>windspeed</th>\n",
              "      <th>cnt</th>\n",
              "    </tr>\n",
              "  </thead>\n",
              "  <tbody>\n",
              "    <tr>\n",
              "      <th>0</th>\n",
              "      <td>1</td>\n",
              "      <td>1.0</td>\n",
              "      <td>0.0</td>\n",
              "      <td>1.0</td>\n",
              "      <td>0.0</td>\n",
              "      <td>6.0</td>\n",
              "      <td>0.0</td>\n",
              "      <td>2</td>\n",
              "      <td>0.344167</td>\n",
              "      <td>0.363625</td>\n",
              "      <td>0.805833</td>\n",
              "      <td>0.160446</td>\n",
              "      <td>985</td>\n",
              "    </tr>\n",
              "    <tr>\n",
              "      <th>1</th>\n",
              "      <td>2</td>\n",
              "      <td>1.0</td>\n",
              "      <td>0.0</td>\n",
              "      <td>1.0</td>\n",
              "      <td>0.0</td>\n",
              "      <td>0.0</td>\n",
              "      <td>0.0</td>\n",
              "      <td>2</td>\n",
              "      <td>0.363478</td>\n",
              "      <td>0.353739</td>\n",
              "      <td>0.696087</td>\n",
              "      <td>0.248539</td>\n",
              "      <td>801</td>\n",
              "    </tr>\n",
              "    <tr>\n",
              "      <th>2</th>\n",
              "      <td>3</td>\n",
              "      <td>1.0</td>\n",
              "      <td>0.0</td>\n",
              "      <td>1.0</td>\n",
              "      <td>0.0</td>\n",
              "      <td>1.0</td>\n",
              "      <td>1.0</td>\n",
              "      <td>1</td>\n",
              "      <td>0.196364</td>\n",
              "      <td>0.189405</td>\n",
              "      <td>0.437273</td>\n",
              "      <td>0.248309</td>\n",
              "      <td>1349</td>\n",
              "    </tr>\n",
              "    <tr>\n",
              "      <th>3</th>\n",
              "      <td>4</td>\n",
              "      <td>1.0</td>\n",
              "      <td>0.0</td>\n",
              "      <td>1.0</td>\n",
              "      <td>0.0</td>\n",
              "      <td>2.0</td>\n",
              "      <td>1.0</td>\n",
              "      <td>1</td>\n",
              "      <td>0.200000</td>\n",
              "      <td>0.212122</td>\n",
              "      <td>0.590435</td>\n",
              "      <td>0.160296</td>\n",
              "      <td>1562</td>\n",
              "    </tr>\n",
              "    <tr>\n",
              "      <th>4</th>\n",
              "      <td>5</td>\n",
              "      <td>1.0</td>\n",
              "      <td>0.0</td>\n",
              "      <td>1.0</td>\n",
              "      <td>0.0</td>\n",
              "      <td>3.0</td>\n",
              "      <td>1.0</td>\n",
              "      <td>1</td>\n",
              "      <td>0.226957</td>\n",
              "      <td>0.229270</td>\n",
              "      <td>0.436957</td>\n",
              "      <td>0.186900</td>\n",
              "      <td>1600</td>\n",
              "    </tr>\n",
              "  </tbody>\n",
              "</table>\n",
              "</div>\n",
              "      <button class=\"colab-df-convert\" onclick=\"convertToInteractive('df-54afe33b-8db6-4f61-bce5-9f75544229e1')\"\n",
              "              title=\"Convert this dataframe to an interactive table.\"\n",
              "              style=\"display:none;\">\n",
              "        \n",
              "  <svg xmlns=\"http://www.w3.org/2000/svg\" height=\"24px\"viewBox=\"0 0 24 24\"\n",
              "       width=\"24px\">\n",
              "    <path d=\"M0 0h24v24H0V0z\" fill=\"none\"/>\n",
              "    <path d=\"M18.56 5.44l.94 2.06.94-2.06 2.06-.94-2.06-.94-.94-2.06-.94 2.06-2.06.94zm-11 1L8.5 8.5l.94-2.06 2.06-.94-2.06-.94L8.5 2.5l-.94 2.06-2.06.94zm10 10l.94 2.06.94-2.06 2.06-.94-2.06-.94-.94-2.06-.94 2.06-2.06.94z\"/><path d=\"M17.41 7.96l-1.37-1.37c-.4-.4-.92-.59-1.43-.59-.52 0-1.04.2-1.43.59L10.3 9.45l-7.72 7.72c-.78.78-.78 2.05 0 2.83L4 21.41c.39.39.9.59 1.41.59.51 0 1.02-.2 1.41-.59l7.78-7.78 2.81-2.81c.8-.78.8-2.07 0-2.86zM5.41 20L4 18.59l7.72-7.72 1.47 1.35L5.41 20z\"/>\n",
              "  </svg>\n",
              "      </button>\n",
              "      \n",
              "  <style>\n",
              "    .colab-df-container {\n",
              "      display:flex;\n",
              "      flex-wrap:wrap;\n",
              "      gap: 12px;\n",
              "    }\n",
              "\n",
              "    .colab-df-convert {\n",
              "      background-color: #E8F0FE;\n",
              "      border: none;\n",
              "      border-radius: 50%;\n",
              "      cursor: pointer;\n",
              "      display: none;\n",
              "      fill: #1967D2;\n",
              "      height: 32px;\n",
              "      padding: 0 0 0 0;\n",
              "      width: 32px;\n",
              "    }\n",
              "\n",
              "    .colab-df-convert:hover {\n",
              "      background-color: #E2EBFA;\n",
              "      box-shadow: 0px 1px 2px rgba(60, 64, 67, 0.3), 0px 1px 3px 1px rgba(60, 64, 67, 0.15);\n",
              "      fill: #174EA6;\n",
              "    }\n",
              "\n",
              "    [theme=dark] .colab-df-convert {\n",
              "      background-color: #3B4455;\n",
              "      fill: #D2E3FC;\n",
              "    }\n",
              "\n",
              "    [theme=dark] .colab-df-convert:hover {\n",
              "      background-color: #434B5C;\n",
              "      box-shadow: 0px 1px 3px 1px rgba(0, 0, 0, 0.15);\n",
              "      filter: drop-shadow(0px 1px 2px rgba(0, 0, 0, 0.3));\n",
              "      fill: #FFFFFF;\n",
              "    }\n",
              "  </style>\n",
              "\n",
              "      <script>\n",
              "        const buttonEl =\n",
              "          document.querySelector('#df-54afe33b-8db6-4f61-bce5-9f75544229e1 button.colab-df-convert');\n",
              "        buttonEl.style.display =\n",
              "          google.colab.kernel.accessAllowed ? 'block' : 'none';\n",
              "\n",
              "        async function convertToInteractive(key) {\n",
              "          const element = document.querySelector('#df-54afe33b-8db6-4f61-bce5-9f75544229e1');\n",
              "          const dataTable =\n",
              "            await google.colab.kernel.invokeFunction('convertToInteractive',\n",
              "                                                     [key], {});\n",
              "          if (!dataTable) return;\n",
              "\n",
              "          const docLinkHtml = 'Like what you see? Visit the ' +\n",
              "            '<a target=\"_blank\" href=https://colab.research.google.com/notebooks/data_table.ipynb>data table notebook</a>'\n",
              "            + ' to learn more about interactive tables.';\n",
              "          element.innerHTML = '';\n",
              "          dataTable['output_type'] = 'display_data';\n",
              "          await google.colab.output.renderOutput(dataTable, element);\n",
              "          const docLink = document.createElement('div');\n",
              "          docLink.innerHTML = docLinkHtml;\n",
              "          element.appendChild(docLink);\n",
              "        }\n",
              "      </script>\n",
              "    </div>\n",
              "  </div>\n",
              "  "
            ]
          },
          "metadata": {},
          "execution_count": 4
        }
      ]
    },
    {
      "cell_type": "code",
      "source": [
        "x_bikes = df_bikes.iloc[:, :-1]\n",
        "y_bikes = df_bikes.iloc[:, -1]\n",
        "from sklearn.model_selection import train_test_split as tts\n",
        "x_train, x_test, y_train, y_test = tts(x_bikes, y_bikes, random_state = 2)"
      ],
      "metadata": {
        "id": "0FguCbk58GDf"
      },
      "id": "0FguCbk58GDf",
      "execution_count": 6,
      "outputs": []
    },
    {
      "cell_type": "code",
      "source": [
        "from sklearn.tree import DecisionTreeRegressor\n",
        "tree_1 = DecisionTreeRegressor(max_depth = 2, random_state = 2)\n",
        "tree_1.fit(x_train, y_train)"
      ],
      "metadata": {
        "id": "WZXWOEJrjoVx",
        "outputId": "acd2d152-9acc-4179-fa2c-f5a602c4de0d",
        "colab": {
          "base_uri": "https://localhost:8080/"
        }
      },
      "id": "WZXWOEJrjoVx",
      "execution_count": 7,
      "outputs": [
        {
          "output_type": "execute_result",
          "data": {
            "text/plain": [
              "DecisionTreeRegressor(max_depth=2, random_state=2)"
            ]
          },
          "metadata": {},
          "execution_count": 7
        }
      ]
    },
    {
      "cell_type": "code",
      "source": [
        "y_train_pred = tree_1.predict(x_train)\n",
        "y2_train = y_train - y_train_pred"
      ],
      "metadata": {
        "id": "dJh-ngjpkGUD"
      },
      "id": "dJh-ngjpkGUD",
      "execution_count": 8,
      "outputs": []
    },
    {
      "cell_type": "code",
      "source": [
        "tree_2 = DecisionTreeRegressor(max_depth = 2, random_state = 2)\n",
        "tree_2.fit(x_train, y2_train)\n",
        "y2_train_pred = tree_2.predict(x_train)\n",
        "y3_train = y2_train - y2_train_pred\n",
        "\n",
        "tree_3 = DecisionTreeRegressor(max_depth = 2, random_state = 2)\n",
        "tree_3.fit(x_train, y3_train)"
      ],
      "metadata": {
        "id": "QNjnCWEUkRVy",
        "outputId": "602999ee-0a55-4600-b117-65497c2fc743",
        "colab": {
          "base_uri": "https://localhost:8080/"
        }
      },
      "id": "QNjnCWEUkRVy",
      "execution_count": 11,
      "outputs": [
        {
          "output_type": "execute_result",
          "data": {
            "text/plain": [
              "DecisionTreeRegressor(max_depth=2, random_state=2)"
            ]
          },
          "metadata": {},
          "execution_count": 11
        }
      ]
    },
    {
      "cell_type": "code",
      "source": [
        "y1_pred = tree_1.predict(x_test)\n",
        "y2_pred = tree_2.predict(x_test)\n",
        "y3_pred = tree_3.predict(x_test)\n",
        "\n",
        "y_pred = y1_pred + y2_pred + y3_pred\n",
        "from sklearn.metrics import mean_squared_error as MSE\n",
        "MSE(y_test, y_pred) ** 0.5"
      ],
      "metadata": {
        "id": "IBYaJbS0khFK",
        "outputId": "7776ea62-dc9b-42d6-c219-ea202e0d7d28",
        "colab": {
          "base_uri": "https://localhost:8080/"
        }
      },
      "id": "IBYaJbS0khFK",
      "execution_count": 13,
      "outputs": [
        {
          "output_type": "execute_result",
          "data": {
            "text/plain": [
              "911.0479538776444"
            ]
          },
          "metadata": {},
          "execution_count": 13
        }
      ]
    },
    {
      "cell_type": "code",
      "source": [
        "res_1 = y_train - np.mean(y_train)\n",
        "\n",
        "tree_1.fit(x_train, res_1)\n",
        "pred_1 = tree_1.predict(x_train)\n",
        "res_2 = y_train - pred_1\n",
        "\n",
        "tree_2.fit(x_train, res_2)\n",
        "pred_2 = tree_2.predict(x_train)\n",
        "res_3 = y_train - (pred_1 + pred_2)\n",
        "\n",
        "tree_3.fit(x_train, res_3)"
      ],
      "metadata": {
        "id": "GhgtGnQgldWy",
        "outputId": "3082f76d-429d-40e9-f2d9-a2e10f612cc1",
        "colab": {
          "base_uri": "https://localhost:8080/"
        }
      },
      "id": "GhgtGnQgldWy",
      "execution_count": 18,
      "outputs": [
        {
          "output_type": "execute_result",
          "data": {
            "text/plain": [
              "DecisionTreeRegressor(max_depth=2, random_state=2)"
            ]
          },
          "metadata": {},
          "execution_count": 18
        }
      ]
    },
    {
      "cell_type": "code",
      "source": [
        "pred_all = tree_1.predict(x_test) + tree_2.predict(x_test) + tree_3.predict(x_test)\n",
        "MSE(y_test, pred_all, squared = False)    # RMSE 값 구하기"
      ],
      "metadata": {
        "id": "jb4EFHTNoUxD",
        "outputId": "f59ef6d3-c783-4b0c-b188-8b2c623e062e",
        "colab": {
          "base_uri": "https://localhost:8080/"
        }
      },
      "id": "jb4EFHTNoUxD",
      "execution_count": 19,
      "outputs": [
        {
          "output_type": "execute_result",
          "data": {
            "text/plain": [
              "911.0479538776432"
            ]
          },
          "metadata": {},
          "execution_count": 19
        }
      ]
    },
    {
      "cell_type": "code",
      "source": [
        "from sklearn.ensemble import GradientBoostingRegressor"
      ],
      "metadata": {
        "id": "VxLDtpQbpijK"
      },
      "id": "VxLDtpQbpijK",
      "execution_count": 20,
      "outputs": []
    },
    {
      "cell_type": "code",
      "source": [
        "gbr = GradientBoostingRegressor(max_depth = 2, random_state = 2, n_estimators = 3, learning_rate = 1)"
      ],
      "metadata": {
        "id": "BN49w8vlp4Vo"
      },
      "id": "BN49w8vlp4Vo",
      "execution_count": 21,
      "outputs": []
    },
    {
      "cell_type": "code",
      "source": [
        "gbr.fit(x_train, y_train)\n",
        "y_pred = gbr.predict(x_test)\n",
        "MSE(y_test, y_pred, squared = False)"
      ],
      "metadata": {
        "id": "NhalN5NTqAx3",
        "outputId": "1f6f9caf-2bb9-4471-f465-df39db8c6099",
        "colab": {
          "base_uri": "https://localhost:8080/"
        }
      },
      "id": "NhalN5NTqAx3",
      "execution_count": 22,
      "outputs": [
        {
          "output_type": "execute_result",
          "data": {
            "text/plain": [
              "911.0479538776439"
            ]
          },
          "metadata": {},
          "execution_count": 22
        }
      ]
    },
    {
      "cell_type": "code",
      "source": [
        "gbr = GradientBoostingRegressor(max_depth = 2, random_state = 2, n_estimators = 30, learning_rate = 1)\n",
        "gbr.fit(x_train, y_train)\n",
        "y_pred = gbr.predict(x_test)\n",
        "MSE(y_test, y_pred, squared = False)"
      ],
      "metadata": {
        "id": "-Nzc7Y_8qLLI",
        "outputId": "b8da3ace-abf1-40e4-db7e-8cd6fe97334c",
        "colab": {
          "base_uri": "https://localhost:8080/"
        }
      },
      "id": "-Nzc7Y_8qLLI",
      "execution_count": 23,
      "outputs": [
        {
          "output_type": "execute_result",
          "data": {
            "text/plain": [
              "857.1072323426944"
            ]
          },
          "metadata": {},
          "execution_count": 23
        }
      ]
    },
    {
      "cell_type": "code",
      "source": [
        "gbr = GradientBoostingRegressor(max_depth = 2, random_state = 2, n_estimators = 300, learning_rate = 1)\n",
        "gbr.fit(x_train, y_train)\n",
        "y_pred = gbr.predict(x_test)\n",
        "MSE(y_test, y_pred, squared = False)"
      ],
      "metadata": {
        "id": "aP_Gl194qQiH",
        "outputId": "92cd4e03-37d8-433e-ee0b-7a1ba56e1235",
        "colab": {
          "base_uri": "https://localhost:8080/"
        }
      },
      "id": "aP_Gl194qQiH",
      "execution_count": 24,
      "outputs": [
        {
          "output_type": "execute_result",
          "data": {
            "text/plain": [
              "936.3617413678853"
            ]
          },
          "metadata": {},
          "execution_count": 24
        }
      ]
    },
    {
      "cell_type": "code",
      "source": [
        "gbr = GradientBoostingRegressor(max_depth = 2, random_state = 2, n_estimators = 300)\n",
        "gbr.fit(x_train, y_train)\n",
        "y_pred = gbr.predict(x_test)\n",
        "MSE(y_test, y_pred, squared = False)"
      ],
      "metadata": {
        "id": "se2a2vbnqTW2",
        "outputId": "d4f4fd03-3a04-4bc7-ecdf-459221417095",
        "colab": {
          "base_uri": "https://localhost:8080/"
        }
      },
      "id": "se2a2vbnqTW2",
      "execution_count": 25,
      "outputs": [
        {
          "output_type": "execute_result",
          "data": {
            "text/plain": [
              "653.7456840231495"
            ]
          },
          "metadata": {},
          "execution_count": 25
        }
      ]
    },
    {
      "cell_type": "code",
      "source": [
        "lr_values = [0.001, 0.01, 0.05, 0.1, 0.15, 0.2, 0.3, 0.5, 1.0]"
      ],
      "metadata": {
        "id": "NwqtiSf3qXSX"
      },
      "id": "NwqtiSf3qXSX",
      "execution_count": 26,
      "outputs": []
    },
    {
      "cell_type": "code",
      "source": [
        "for value in lr_values:\n",
        "  gbr = GradientBoostingRegressor(max_depth = 2, random_state = 2, n_estimators = 300, learning_rate = value)\n",
        "  gbr.fit(x_train, y_train)\n",
        "  y_pred = gbr.predict(x_test)\n",
        "  rmse = MSE(y_test, y_pred, squared = False)\n",
        "  print(f'학습률: {value}, 점수: {rmse}')"
      ],
      "metadata": {
        "id": "X8KeDETbqvt4",
        "outputId": "58f5d212-f3b7-4ead-fb06-c2c8e79ae87a",
        "colab": {
          "base_uri": "https://localhost:8080/"
        }
      },
      "id": "X8KeDETbqvt4",
      "execution_count": 28,
      "outputs": [
        {
          "output_type": "stream",
          "name": "stdout",
          "text": [
            "학습률: 0.001, 점수: 1633.0261400367258\n",
            "학습률: 0.01, 점수: 831.5430182728547\n",
            "학습률: 0.05, 점수: 685.0192988749717\n",
            "학습률: 0.1, 점수: 653.7456840231495\n",
            "학습률: 0.15, 점수: 687.666134269379\n",
            "학습률: 0.2, 점수: 664.312804425697\n",
            "학습률: 0.3, 점수: 689.4190385930236\n",
            "학습률: 0.5, 점수: 693.8856905068778\n",
            "학습률: 1.0, 점수: 936.3617413678853\n"
          ]
        }
      ]
    },
    {
      "cell_type": "code",
      "source": [
        "depths = [None, 1, 2, 3, 4]\n",
        "for depth in depths:\n",
        "  gbr = GradientBoostingRegressor(max_depth = depth, random_state = 2, n_estimators = 300)\n",
        "  gbr.fit(x_train, y_train)\n",
        "  y_pred = gbr.predict(x_test)\n",
        "  rmse = MSE(y_test, y_pred, squared = False)\n",
        "  print(f'최대 깊이: {depth}, 점수: {rmse}')"
      ],
      "metadata": {
        "id": "Uh-S_BQ0q8BH",
        "outputId": "dca08b57-a25c-493c-ad4c-0c4177d4a3fc",
        "colab": {
          "base_uri": "https://localhost:8080/"
        }
      },
      "id": "Uh-S_BQ0q8BH",
      "execution_count": 32,
      "outputs": [
        {
          "output_type": "stream",
          "name": "stdout",
          "text": [
            "최대 깊이: None, 점수: 869.2788645118395\n",
            "최대 깊이: 1, 점수: 707.8261886858736\n",
            "최대 깊이: 2, 점수: 653.7456840231495\n",
            "최대 깊이: 3, 점수: 646.4045923317708\n",
            "최대 깊이: 4, 점수: 663.048387855927\n"
          ]
        }
      ]
    },
    {
      "cell_type": "code",
      "source": [
        "ㅁ = 123\n",
        "ㅁ"
      ],
      "metadata": {
        "id": "OXZ_2JtUrRIt",
        "outputId": "00376fda-3907-4623-c037-b389074fefe2",
        "colab": {
          "base_uri": "https://localhost:8080/"
        }
      },
      "id": "OXZ_2JtUrRIt",
      "execution_count": 36,
      "outputs": [
        {
          "output_type": "execute_result",
          "data": {
            "text/plain": [
              "123"
            ]
          },
          "metadata": {},
          "execution_count": 36
        }
      ]
    },
    {
      "cell_type": "code",
      "source": [
        ""
      ],
      "metadata": {
        "id": "wjtkK0yvxFUj",
        "outputId": "dae42670-9bd3-4dd3-cd69-da4943df3479",
        "colab": {
          "base_uri": "https://localhost:8080/"
        }
      },
      "id": "wjtkK0yvxFUj",
      "execution_count": 34,
      "outputs": [
        {
          "output_type": "execute_result",
          "data": {
            "text/plain": [
              "1"
            ]
          },
          "metadata": {},
          "execution_count": 34
        }
      ]
    },
    {
      "cell_type": "code",
      "source": [
        ""
      ],
      "metadata": {
        "id": "2PnvkxtlxHsY"
      },
      "id": "2PnvkxtlxHsY",
      "execution_count": null,
      "outputs": []
    }
  ],
  "metadata": {
    "kernelspec": {
      "display_name": "Python 3 (ipykernel)",
      "language": "python",
      "name": "python3"
    },
    "language_info": {
      "codemirror_mode": {
        "name": "ipython",
        "version": 3
      },
      "file_extension": ".py",
      "mimetype": "text/x-python",
      "name": "python",
      "nbconvert_exporter": "python",
      "pygments_lexer": "ipython3",
      "version": "3.9.7"
    },
    "colab": {
      "name": "00. Untitled.ipynb",
      "provenance": [],
      "include_colab_link": true
    }
  },
  "nbformat": 4,
  "nbformat_minor": 5
}