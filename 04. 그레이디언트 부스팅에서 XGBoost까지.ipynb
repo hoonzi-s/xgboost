{
  "cells": [
    {
      "cell_type": "markdown",
      "metadata": {
        "id": "view-in-github",
        "colab_type": "text"
      },
      "source": [
        "<a href=\"https://colab.research.google.com/github/hoonzi-s/xgboost/blob/main/04.%20%EA%B7%B8%EB%A0%88%EC%9D%B4%EB%94%94%EC%96%B8%ED%8A%B8%20%EB%B6%80%EC%8A%A4%ED%8C%85%EC%97%90%EC%84%9C%20XGBoost%EA%B9%8C%EC%A7%80.ipynb\" target=\"_parent\"><img src=\"https://colab.research.google.com/assets/colab-badge.svg\" alt=\"Open In Colab\"/></a>"
      ]
    },
    {
      "cell_type": "code",
      "execution_count": 26,
      "id": "01f25715",
      "metadata": {
        "id": "01f25715"
      },
      "outputs": [],
      "source": [
        "import pandas as pd\n",
        "import numpy as np\n",
        "import matplotlib.pyplot as plt\n",
        "import warnings\n",
        "warnings.filterwarnings('ignore')\n",
        "import xgboost as xgb\n",
        "# xgb.set_config(verbosity = 0)\n",
        "import seaborn as sns\n",
        "sns.set()"
      ]
    },
    {
      "cell_type": "code",
      "source": [
        "head = 'https://raw.githubusercontent.com/rickiepark/handson-gb/main/Chapter'\n",
        "tail = '04/bike_rentals_cleaned.csv'\n",
        "link = head + tail\n",
        "\n",
        "df_bikes = pd.read_csv(link)\n",
        "df_bikes.head()"
      ],
      "metadata": {
        "id": "6k0VhSB47jWy",
        "outputId": "86525d6e-5452-4f72-c5f8-7e6c1f0d9bdf",
        "colab": {
          "base_uri": "https://localhost:8080/",
          "height": 206
        }
      },
      "id": "6k0VhSB47jWy",
      "execution_count": 2,
      "outputs": [
        {
          "output_type": "execute_result",
          "data": {
            "text/plain": [
              "   instant  season   yr  mnth  holiday  weekday  workingday  weathersit  \\\n",
              "0        1     1.0  0.0   1.0      0.0      6.0         0.0           2   \n",
              "1        2     1.0  0.0   1.0      0.0      0.0         0.0           2   \n",
              "2        3     1.0  0.0   1.0      0.0      1.0         1.0           1   \n",
              "3        4     1.0  0.0   1.0      0.0      2.0         1.0           1   \n",
              "4        5     1.0  0.0   1.0      0.0      3.0         1.0           1   \n",
              "\n",
              "       temp     atemp       hum  windspeed   cnt  \n",
              "0  0.344167  0.363625  0.805833   0.160446   985  \n",
              "1  0.363478  0.353739  0.696087   0.248539   801  \n",
              "2  0.196364  0.189405  0.437273   0.248309  1349  \n",
              "3  0.200000  0.212122  0.590435   0.160296  1562  \n",
              "4  0.226957  0.229270  0.436957   0.186900  1600  "
            ],
            "text/html": [
              "\n",
              "  <div id=\"df-71a7721a-fc59-48f0-b65d-edc57e76223d\">\n",
              "    <div class=\"colab-df-container\">\n",
              "      <div>\n",
              "<style scoped>\n",
              "    .dataframe tbody tr th:only-of-type {\n",
              "        vertical-align: middle;\n",
              "    }\n",
              "\n",
              "    .dataframe tbody tr th {\n",
              "        vertical-align: top;\n",
              "    }\n",
              "\n",
              "    .dataframe thead th {\n",
              "        text-align: right;\n",
              "    }\n",
              "</style>\n",
              "<table border=\"1\" class=\"dataframe\">\n",
              "  <thead>\n",
              "    <tr style=\"text-align: right;\">\n",
              "      <th></th>\n",
              "      <th>instant</th>\n",
              "      <th>season</th>\n",
              "      <th>yr</th>\n",
              "      <th>mnth</th>\n",
              "      <th>holiday</th>\n",
              "      <th>weekday</th>\n",
              "      <th>workingday</th>\n",
              "      <th>weathersit</th>\n",
              "      <th>temp</th>\n",
              "      <th>atemp</th>\n",
              "      <th>hum</th>\n",
              "      <th>windspeed</th>\n",
              "      <th>cnt</th>\n",
              "    </tr>\n",
              "  </thead>\n",
              "  <tbody>\n",
              "    <tr>\n",
              "      <th>0</th>\n",
              "      <td>1</td>\n",
              "      <td>1.0</td>\n",
              "      <td>0.0</td>\n",
              "      <td>1.0</td>\n",
              "      <td>0.0</td>\n",
              "      <td>6.0</td>\n",
              "      <td>0.0</td>\n",
              "      <td>2</td>\n",
              "      <td>0.344167</td>\n",
              "      <td>0.363625</td>\n",
              "      <td>0.805833</td>\n",
              "      <td>0.160446</td>\n",
              "      <td>985</td>\n",
              "    </tr>\n",
              "    <tr>\n",
              "      <th>1</th>\n",
              "      <td>2</td>\n",
              "      <td>1.0</td>\n",
              "      <td>0.0</td>\n",
              "      <td>1.0</td>\n",
              "      <td>0.0</td>\n",
              "      <td>0.0</td>\n",
              "      <td>0.0</td>\n",
              "      <td>2</td>\n",
              "      <td>0.363478</td>\n",
              "      <td>0.353739</td>\n",
              "      <td>0.696087</td>\n",
              "      <td>0.248539</td>\n",
              "      <td>801</td>\n",
              "    </tr>\n",
              "    <tr>\n",
              "      <th>2</th>\n",
              "      <td>3</td>\n",
              "      <td>1.0</td>\n",
              "      <td>0.0</td>\n",
              "      <td>1.0</td>\n",
              "      <td>0.0</td>\n",
              "      <td>1.0</td>\n",
              "      <td>1.0</td>\n",
              "      <td>1</td>\n",
              "      <td>0.196364</td>\n",
              "      <td>0.189405</td>\n",
              "      <td>0.437273</td>\n",
              "      <td>0.248309</td>\n",
              "      <td>1349</td>\n",
              "    </tr>\n",
              "    <tr>\n",
              "      <th>3</th>\n",
              "      <td>4</td>\n",
              "      <td>1.0</td>\n",
              "      <td>0.0</td>\n",
              "      <td>1.0</td>\n",
              "      <td>0.0</td>\n",
              "      <td>2.0</td>\n",
              "      <td>1.0</td>\n",
              "      <td>1</td>\n",
              "      <td>0.200000</td>\n",
              "      <td>0.212122</td>\n",
              "      <td>0.590435</td>\n",
              "      <td>0.160296</td>\n",
              "      <td>1562</td>\n",
              "    </tr>\n",
              "    <tr>\n",
              "      <th>4</th>\n",
              "      <td>5</td>\n",
              "      <td>1.0</td>\n",
              "      <td>0.0</td>\n",
              "      <td>1.0</td>\n",
              "      <td>0.0</td>\n",
              "      <td>3.0</td>\n",
              "      <td>1.0</td>\n",
              "      <td>1</td>\n",
              "      <td>0.226957</td>\n",
              "      <td>0.229270</td>\n",
              "      <td>0.436957</td>\n",
              "      <td>0.186900</td>\n",
              "      <td>1600</td>\n",
              "    </tr>\n",
              "  </tbody>\n",
              "</table>\n",
              "</div>\n",
              "      <button class=\"colab-df-convert\" onclick=\"convertToInteractive('df-71a7721a-fc59-48f0-b65d-edc57e76223d')\"\n",
              "              title=\"Convert this dataframe to an interactive table.\"\n",
              "              style=\"display:none;\">\n",
              "        \n",
              "  <svg xmlns=\"http://www.w3.org/2000/svg\" height=\"24px\"viewBox=\"0 0 24 24\"\n",
              "       width=\"24px\">\n",
              "    <path d=\"M0 0h24v24H0V0z\" fill=\"none\"/>\n",
              "    <path d=\"M18.56 5.44l.94 2.06.94-2.06 2.06-.94-2.06-.94-.94-2.06-.94 2.06-2.06.94zm-11 1L8.5 8.5l.94-2.06 2.06-.94-2.06-.94L8.5 2.5l-.94 2.06-2.06.94zm10 10l.94 2.06.94-2.06 2.06-.94-2.06-.94-.94-2.06-.94 2.06-2.06.94z\"/><path d=\"M17.41 7.96l-1.37-1.37c-.4-.4-.92-.59-1.43-.59-.52 0-1.04.2-1.43.59L10.3 9.45l-7.72 7.72c-.78.78-.78 2.05 0 2.83L4 21.41c.39.39.9.59 1.41.59.51 0 1.02-.2 1.41-.59l7.78-7.78 2.81-2.81c.8-.78.8-2.07 0-2.86zM5.41 20L4 18.59l7.72-7.72 1.47 1.35L5.41 20z\"/>\n",
              "  </svg>\n",
              "      </button>\n",
              "      \n",
              "  <style>\n",
              "    .colab-df-container {\n",
              "      display:flex;\n",
              "      flex-wrap:wrap;\n",
              "      gap: 12px;\n",
              "    }\n",
              "\n",
              "    .colab-df-convert {\n",
              "      background-color: #E8F0FE;\n",
              "      border: none;\n",
              "      border-radius: 50%;\n",
              "      cursor: pointer;\n",
              "      display: none;\n",
              "      fill: #1967D2;\n",
              "      height: 32px;\n",
              "      padding: 0 0 0 0;\n",
              "      width: 32px;\n",
              "    }\n",
              "\n",
              "    .colab-df-convert:hover {\n",
              "      background-color: #E2EBFA;\n",
              "      box-shadow: 0px 1px 2px rgba(60, 64, 67, 0.3), 0px 1px 3px 1px rgba(60, 64, 67, 0.15);\n",
              "      fill: #174EA6;\n",
              "    }\n",
              "\n",
              "    [theme=dark] .colab-df-convert {\n",
              "      background-color: #3B4455;\n",
              "      fill: #D2E3FC;\n",
              "    }\n",
              "\n",
              "    [theme=dark] .colab-df-convert:hover {\n",
              "      background-color: #434B5C;\n",
              "      box-shadow: 0px 1px 3px 1px rgba(0, 0, 0, 0.15);\n",
              "      filter: drop-shadow(0px 1px 2px rgba(0, 0, 0, 0.3));\n",
              "      fill: #FFFFFF;\n",
              "    }\n",
              "  </style>\n",
              "\n",
              "      <script>\n",
              "        const buttonEl =\n",
              "          document.querySelector('#df-71a7721a-fc59-48f0-b65d-edc57e76223d button.colab-df-convert');\n",
              "        buttonEl.style.display =\n",
              "          google.colab.kernel.accessAllowed ? 'block' : 'none';\n",
              "\n",
              "        async function convertToInteractive(key) {\n",
              "          const element = document.querySelector('#df-71a7721a-fc59-48f0-b65d-edc57e76223d');\n",
              "          const dataTable =\n",
              "            await google.colab.kernel.invokeFunction('convertToInteractive',\n",
              "                                                     [key], {});\n",
              "          if (!dataTable) return;\n",
              "\n",
              "          const docLinkHtml = 'Like what you see? Visit the ' +\n",
              "            '<a target=\"_blank\" href=https://colab.research.google.com/notebooks/data_table.ipynb>data table notebook</a>'\n",
              "            + ' to learn more about interactive tables.';\n",
              "          element.innerHTML = '';\n",
              "          dataTable['output_type'] = 'display_data';\n",
              "          await google.colab.output.renderOutput(dataTable, element);\n",
              "          const docLink = document.createElement('div');\n",
              "          docLink.innerHTML = docLinkHtml;\n",
              "          element.appendChild(docLink);\n",
              "        }\n",
              "      </script>\n",
              "    </div>\n",
              "  </div>\n",
              "  "
            ]
          },
          "metadata": {},
          "execution_count": 2
        }
      ]
    },
    {
      "cell_type": "code",
      "source": [
        "x_bikes = df_bikes.iloc[:, :-1]\n",
        "y_bikes = df_bikes.iloc[:, -1]\n",
        "from sklearn.model_selection import train_test_split as tts\n",
        "x_train, x_test, y_train, y_test = tts(x_bikes, y_bikes, random_state = 2)"
      ],
      "metadata": {
        "id": "0FguCbk58GDf"
      },
      "id": "0FguCbk58GDf",
      "execution_count": 3,
      "outputs": []
    },
    {
      "cell_type": "code",
      "source": [
        "from sklearn.tree import DecisionTreeRegressor\n",
        "tree_1 = DecisionTreeRegressor(max_depth = 2, random_state = 2)\n",
        "tree_1.fit(x_train, y_train)"
      ],
      "metadata": {
        "id": "WZXWOEJrjoVx",
        "outputId": "952f8ea1-65af-42f0-e416-dc0bdebb3910",
        "colab": {
          "base_uri": "https://localhost:8080/"
        }
      },
      "id": "WZXWOEJrjoVx",
      "execution_count": 4,
      "outputs": [
        {
          "output_type": "execute_result",
          "data": {
            "text/plain": [
              "DecisionTreeRegressor(max_depth=2, random_state=2)"
            ]
          },
          "metadata": {},
          "execution_count": 4
        }
      ]
    },
    {
      "cell_type": "code",
      "source": [
        "y_train_pred = tree_1.predict(x_train)\n",
        "y2_train = y_train - y_train_pred"
      ],
      "metadata": {
        "id": "dJh-ngjpkGUD"
      },
      "id": "dJh-ngjpkGUD",
      "execution_count": 5,
      "outputs": []
    },
    {
      "cell_type": "code",
      "source": [
        "tree_2 = DecisionTreeRegressor(max_depth = 2, random_state = 2)\n",
        "tree_2.fit(x_train, y2_train)\n",
        "y2_train_pred = tree_2.predict(x_train)\n",
        "y3_train = y2_train - y2_train_pred\n",
        "\n",
        "tree_3 = DecisionTreeRegressor(max_depth = 2, random_state = 2)\n",
        "tree_3.fit(x_train, y3_train)"
      ],
      "metadata": {
        "id": "QNjnCWEUkRVy",
        "outputId": "1663f4ee-8ee2-4125-b4a9-bcd2bb670956",
        "colab": {
          "base_uri": "https://localhost:8080/"
        }
      },
      "id": "QNjnCWEUkRVy",
      "execution_count": 6,
      "outputs": [
        {
          "output_type": "execute_result",
          "data": {
            "text/plain": [
              "DecisionTreeRegressor(max_depth=2, random_state=2)"
            ]
          },
          "metadata": {},
          "execution_count": 6
        }
      ]
    },
    {
      "cell_type": "code",
      "source": [
        "y1_pred = tree_1.predict(x_test)\n",
        "y2_pred = tree_2.predict(x_test)\n",
        "y3_pred = tree_3.predict(x_test)\n",
        "\n",
        "y_pred = y1_pred + y2_pred + y3_pred\n",
        "from sklearn.metrics import mean_squared_error as MSE\n",
        "MSE(y_test, y_pred) ** 0.5"
      ],
      "metadata": {
        "id": "IBYaJbS0khFK",
        "outputId": "7172073e-05a2-43b5-acec-6d7deb81f5f7",
        "colab": {
          "base_uri": "https://localhost:8080/"
        }
      },
      "id": "IBYaJbS0khFK",
      "execution_count": 7,
      "outputs": [
        {
          "output_type": "execute_result",
          "data": {
            "text/plain": [
              "911.0479538776444"
            ]
          },
          "metadata": {},
          "execution_count": 7
        }
      ]
    },
    {
      "cell_type": "code",
      "source": [
        "res_1 = y_train - np.mean(y_train)\n",
        "\n",
        "tree_1.fit(x_train, res_1)\n",
        "pred_1 = tree_1.predict(x_train)\n",
        "res_2 = y_train - pred_1\n",
        "\n",
        "tree_2.fit(x_train, res_2)\n",
        "pred_2 = tree_2.predict(x_train)\n",
        "res_3 = y_train - (pred_1 + pred_2)\n",
        "\n",
        "tree_3.fit(x_train, res_3)"
      ],
      "metadata": {
        "id": "GhgtGnQgldWy",
        "outputId": "6bdbed8f-fc69-4e86-e155-4a12672670be",
        "colab": {
          "base_uri": "https://localhost:8080/"
        }
      },
      "id": "GhgtGnQgldWy",
      "execution_count": 8,
      "outputs": [
        {
          "output_type": "execute_result",
          "data": {
            "text/plain": [
              "DecisionTreeRegressor(max_depth=2, random_state=2)"
            ]
          },
          "metadata": {},
          "execution_count": 8
        }
      ]
    },
    {
      "cell_type": "code",
      "source": [
        "pred_all = tree_1.predict(x_test) + tree_2.predict(x_test) + tree_3.predict(x_test)\n",
        "MSE(y_test, pred_all, squared = False)    # RMSE 값 구하기"
      ],
      "metadata": {
        "id": "jb4EFHTNoUxD",
        "outputId": "564e0354-f629-4360-a2ad-d4f1549b8eae",
        "colab": {
          "base_uri": "https://localhost:8080/"
        }
      },
      "id": "jb4EFHTNoUxD",
      "execution_count": 9,
      "outputs": [
        {
          "output_type": "execute_result",
          "data": {
            "text/plain": [
              "911.0479538776432"
            ]
          },
          "metadata": {},
          "execution_count": 9
        }
      ]
    },
    {
      "cell_type": "code",
      "source": [
        "from sklearn.ensemble import GradientBoostingRegressor"
      ],
      "metadata": {
        "id": "VxLDtpQbpijK"
      },
      "id": "VxLDtpQbpijK",
      "execution_count": 10,
      "outputs": []
    },
    {
      "cell_type": "code",
      "source": [
        "gbr = GradientBoostingRegressor(max_depth = 2, random_state = 2, n_estimators = 3, learning_rate = 1)"
      ],
      "metadata": {
        "id": "BN49w8vlp4Vo"
      },
      "id": "BN49w8vlp4Vo",
      "execution_count": 11,
      "outputs": []
    },
    {
      "cell_type": "code",
      "source": [
        "gbr.fit(x_train, y_train)\n",
        "y_pred = gbr.predict(x_test)\n",
        "MSE(y_test, y_pred, squared = False)"
      ],
      "metadata": {
        "id": "NhalN5NTqAx3",
        "outputId": "a80e0227-b40b-49c1-e9f3-74d86d347db2",
        "colab": {
          "base_uri": "https://localhost:8080/"
        }
      },
      "id": "NhalN5NTqAx3",
      "execution_count": 12,
      "outputs": [
        {
          "output_type": "execute_result",
          "data": {
            "text/plain": [
              "911.0479538776439"
            ]
          },
          "metadata": {},
          "execution_count": 12
        }
      ]
    },
    {
      "cell_type": "code",
      "source": [
        "gbr = GradientBoostingRegressor(max_depth = 2, random_state = 2, n_estimators = 30, learning_rate = 1)\n",
        "gbr.fit(x_train, y_train)\n",
        "y_pred = gbr.predict(x_test)\n",
        "MSE(y_test, y_pred, squared = False)"
      ],
      "metadata": {
        "id": "-Nzc7Y_8qLLI",
        "outputId": "c066be78-424d-481e-d6f6-aa7a7296f27b",
        "colab": {
          "base_uri": "https://localhost:8080/"
        }
      },
      "id": "-Nzc7Y_8qLLI",
      "execution_count": 13,
      "outputs": [
        {
          "output_type": "execute_result",
          "data": {
            "text/plain": [
              "857.1072323426944"
            ]
          },
          "metadata": {},
          "execution_count": 13
        }
      ]
    },
    {
      "cell_type": "code",
      "source": [
        "gbr = GradientBoostingRegressor(max_depth = 2, random_state = 2, n_estimators = 300, learning_rate = 1)\n",
        "gbr.fit(x_train, y_train)\n",
        "y_pred = gbr.predict(x_test)\n",
        "MSE(y_test, y_pred, squared = False)"
      ],
      "metadata": {
        "id": "aP_Gl194qQiH",
        "outputId": "12652379-51d0-4fee-98b6-096a872c1c78",
        "colab": {
          "base_uri": "https://localhost:8080/"
        }
      },
      "id": "aP_Gl194qQiH",
      "execution_count": 14,
      "outputs": [
        {
          "output_type": "execute_result",
          "data": {
            "text/plain": [
              "936.3617413678853"
            ]
          },
          "metadata": {},
          "execution_count": 14
        }
      ]
    },
    {
      "cell_type": "code",
      "source": [
        "gbr = GradientBoostingRegressor(max_depth = 2, random_state = 2, n_estimators = 300)\n",
        "gbr.fit(x_train, y_train)\n",
        "y_pred = gbr.predict(x_test)\n",
        "MSE(y_test, y_pred, squared = False)"
      ],
      "metadata": {
        "id": "se2a2vbnqTW2",
        "outputId": "c2509b8b-3bfa-4091-dad2-ecf00d9b6f04",
        "colab": {
          "base_uri": "https://localhost:8080/"
        }
      },
      "id": "se2a2vbnqTW2",
      "execution_count": 15,
      "outputs": [
        {
          "output_type": "execute_result",
          "data": {
            "text/plain": [
              "653.7456840231495"
            ]
          },
          "metadata": {},
          "execution_count": 15
        }
      ]
    },
    {
      "cell_type": "code",
      "source": [
        "lr_values = [0.001, 0.01, 0.05, 0.1, 0.15, 0.2, 0.3, 0.5, 1.0]"
      ],
      "metadata": {
        "id": "NwqtiSf3qXSX"
      },
      "id": "NwqtiSf3qXSX",
      "execution_count": 16,
      "outputs": []
    },
    {
      "cell_type": "code",
      "source": [
        "for value in lr_values:\n",
        "  gbr = GradientBoostingRegressor(max_depth = 2, random_state = 2, n_estimators = 300, learning_rate = value)\n",
        "  gbr.fit(x_train, y_train)\n",
        "  y_pred = gbr.predict(x_test)\n",
        "  rmse = MSE(y_test, y_pred, squared = False)\n",
        "  print(f'학습률: {value}, 점수: {rmse}')"
      ],
      "metadata": {
        "id": "X8KeDETbqvt4",
        "outputId": "9be063c8-bf62-4ea3-d1b7-608080a9e87c",
        "colab": {
          "base_uri": "https://localhost:8080/"
        }
      },
      "id": "X8KeDETbqvt4",
      "execution_count": 17,
      "outputs": [
        {
          "output_type": "stream",
          "name": "stdout",
          "text": [
            "학습률: 0.001, 점수: 1633.0261400367258\n",
            "학습률: 0.01, 점수: 831.5430182728547\n",
            "학습률: 0.05, 점수: 685.0192988749717\n",
            "학습률: 0.1, 점수: 653.7456840231495\n",
            "학습률: 0.15, 점수: 687.666134269379\n",
            "학습률: 0.2, 점수: 664.312804425697\n",
            "학습률: 0.3, 점수: 689.4190385930236\n",
            "학습률: 0.5, 점수: 693.8856905068778\n",
            "학습률: 1.0, 점수: 936.3617413678853\n"
          ]
        }
      ]
    },
    {
      "cell_type": "code",
      "source": [
        "depths = [None, 1, 2, 3, 4]\n",
        "for depth in depths:\n",
        "  gbr = GradientBoostingRegressor(max_depth = depth, random_state = 2, n_estimators = 300)\n",
        "  gbr.fit(x_train, y_train)\n",
        "  y_pred = gbr.predict(x_test)\n",
        "  rmse = MSE(y_test, y_pred, squared = False)\n",
        "  print(f'최대 깊이: {depth}, 점수: {rmse}')"
      ],
      "metadata": {
        "id": "Uh-S_BQ0q8BH",
        "outputId": "2673355c-12b6-42b1-da86-c7dcc6f06faf",
        "colab": {
          "base_uri": "https://localhost:8080/"
        }
      },
      "id": "Uh-S_BQ0q8BH",
      "execution_count": 18,
      "outputs": [
        {
          "output_type": "stream",
          "name": "stdout",
          "text": [
            "최대 깊이: None, 점수: 869.2788645118395\n",
            "최대 깊이: 1, 점수: 707.8261886858736\n",
            "최대 깊이: 2, 점수: 653.7456840231495\n",
            "최대 깊이: 3, 점수: 646.4045923317708\n",
            "최대 깊이: 4, 점수: 663.048387855927\n"
          ]
        }
      ]
    },
    {
      "cell_type": "code",
      "source": [
        "gbr.init_"
      ],
      "metadata": {
        "id": "OXZ_2JtUrRIt",
        "outputId": "7aa3b0cd-20d3-4df1-8724-98a84667223c",
        "colab": {
          "base_uri": "https://localhost:8080/"
        }
      },
      "id": "OXZ_2JtUrRIt",
      "execution_count": 20,
      "outputs": [
        {
          "output_type": "execute_result",
          "data": {
            "text/plain": [
              "DummyRegressor()"
            ]
          },
          "metadata": {},
          "execution_count": 20
        }
      ]
    },
    {
      "cell_type": "code",
      "source": [
        "len(gbr.estimators_)"
      ],
      "metadata": {
        "id": "wjtkK0yvxFUj",
        "outputId": "5327b8ea-f8fa-4ef4-e85e-8bcf6a7bdbfc",
        "colab": {
          "base_uri": "https://localhost:8080/"
        }
      },
      "id": "wjtkK0yvxFUj",
      "execution_count": 22,
      "outputs": [
        {
          "output_type": "execute_result",
          "data": {
            "text/plain": [
              "300"
            ]
          },
          "metadata": {},
          "execution_count": 22
        }
      ]
    },
    {
      "cell_type": "code",
      "source": [
        "plt.figure(figsize = (15, 7))\n",
        "plt.plot(range(300), gbr.train_score_)\n",
        "plt.xlabel('n_estimators')\n",
        "plt.ylabel('train_score_')\n",
        "plt.title('Train Score')\n",
        "plt.show()"
      ],
      "metadata": {
        "id": "2PnvkxtlxHsY",
        "outputId": "b6615095-772f-4be4-a695-fafe13d82317",
        "colab": {
          "base_uri": "https://localhost:8080/",
          "height": 464
        }
      },
      "id": "2PnvkxtlxHsY",
      "execution_count": 27,
      "outputs": [
        {
          "output_type": "display_data",
          "data": {
            "text/plain": [
              "<Figure size 1080x504 with 1 Axes>"
            ],
            "image/png": "[encoded data removed]"
          },
          "metadata": {}
        }
      ]
    },
    {
      "cell_type": "code",
      "source": [
        "samples = np.arange(1, 0.4, -0.1)\n",
        "for sample in samples:\n",
        "  gbr = GradientBoostingRegressor(max_depth = 3, n_estimators = 300, subsample = sample, random_state = 2)\n",
        "  gbr.fit(x_train, y_train)\n",
        "  y_pred = gbr.predict(x_test)\n",
        "  rmse = MSE(y_test, y_pred) ** 0.5\n",
        "  print('subsample:', sample, ', 점수:', rmse)"
      ],
      "metadata": {
        "id": "seN7sDJmXCZ5",
        "outputId": "f529d20e-bad3-4db9-8055-9d89926e19b3",
        "colab": {
          "base_uri": "https://localhost:8080/"
        }
      },
      "id": "seN7sDJmXCZ5",
      "execution_count": 32,
      "outputs": [
        {
          "output_type": "stream",
          "name": "stdout",
          "text": [
            "subsample: 1.0 , 점수: 646.4045923317708\n",
            "subsample: 0.9 , 점수: 620.1819001443569\n",
            "subsample: 0.8 , 점수: 617.2355650565677\n",
            "subsample: 0.7000000000000001 , 점수: 612.9879156983139\n",
            "subsample: 0.6000000000000001 , 점수: 622.6385116402317\n",
            "subsample: 0.5000000000000001 , 점수: 626.9974073227554\n"
          ]
        }
      ]
    },
    {
      "cell_type": "code",
      "source": [
        "plt.figure(figsize = (15, 7))\n",
        "plt.plot(range(300), gbr.oob_improvement_)\n",
        "plt.xlabel('n_estimators')\n",
        "plt.ylabel('oop_improvement_')\n",
        "plt.title('OOB Improvement')\n",
        "plt.show()"
      ],
      "metadata": {
        "id": "ao7aJ9tTXgsS",
        "outputId": "682545c9-0e80-408d-e733-646c41141cc8",
        "colab": {
          "base_uri": "https://localhost:8080/",
          "height": 464
        }
      },
      "id": "ao7aJ9tTXgsS",
      "execution_count": 33,
      "outputs": [
        {
          "output_type": "display_data",
          "data": {
            "text/plain": [
              "<Figure size 1080x504 with 1 Axes>"
            ],
            "image/png": "[encoded data removed]"
          },
          "metadata": {}
        }
      ]
    },
    {
      "cell_type": "code",
      "source": [
        "params = {'subsample': [0.65, 0.70, 0.75],\n",
        "          'n_estimators': [300, 500, 1000],\n",
        "          'learning_rate': [0.05, 0.075, 0.1]}"
      ],
      "metadata": {
        "id": "hioeIm_7ZbB9"
      },
      "id": "hioeIm_7ZbB9",
      "execution_count": 34,
      "outputs": []
    },
    {
      "cell_type": "code",
      "source": [
        "from sklearn.model_selection import RandomizedSearchCV\n",
        "gbr = GradientBoostingRegressor(max_depth = 3, random_state = 2)"
      ],
      "metadata": {
        "id": "DYw6MH8cZyhC"
      },
      "id": "DYw6MH8cZyhC",
      "execution_count": 35,
      "outputs": []
    },
    {
      "cell_type": "code",
      "source": [
        "rand_reg = RandomizedSearchCV(gbr, params, n_iter = 10, scoring = 'neg_mean_squared_error', cv = 5, n_jobs = -1, random_state = 2)"
      ],
      "metadata": {
        "id": "DRqfVywkZ6uy"
      },
      "id": "DRqfVywkZ6uy",
      "execution_count": 36,
      "outputs": []
    },
    {
      "cell_type": "code",
      "source": [
        "rand_reg.fit(x_train, y_train)"
      ],
      "metadata": {
        "id": "hrIDCo3oaFQi",
        "outputId": "51453c84-23b9-4f2e-fa7e-93fc5f05ec1a",
        "colab": {
          "base_uri": "https://localhost:8080/"
        }
      },
      "id": "hrIDCo3oaFQi",
      "execution_count": 41,
      "outputs": [
        {
          "output_type": "execute_result",
          "data": {
            "text/plain": [
              "RandomizedSearchCV(cv=5, estimator=GradientBoostingRegressor(random_state=2),\n",
              "                   n_jobs=-1,\n",
              "                   param_distributions={'learning_rate': [0.05, 0.075, 0.1],\n",
              "                                        'n_estimators': [300, 500, 1000],\n",
              "                                        'subsample': [0.65, 0.7, 0.75]},\n",
              "                   random_state=2, scoring='neg_mean_squared_error')"
            ]
          },
          "metadata": {},
          "execution_count": 41
        }
      ]
    },
    {
      "cell_type": "code",
      "source": [
        "best_model = rand_reg.best_estimator_\n",
        "best_params = rand_reg.best_params_\n",
        "print('최상의 매개변수:', best_params)\n",
        "best_score = np.sqrt(-rand_reg.best_score_)\n",
        "print(f'훈련 점수: {best_score:.3f}')\n",
        "y_pred = best_model.predict(x_test)\n",
        "rmse_test = MSE(y_test, y_pred)\n",
        "print(f'테스트 세트 점수: {rmse_test**0.5:.3f}')"
      ],
      "metadata": {
        "id": "2NqtX8GObQDC",
        "outputId": "b76e1fdb-ea5a-4fa7-bfc6-038c7297f321",
        "colab": {
          "base_uri": "https://localhost:8080/"
        }
      },
      "id": "2NqtX8GObQDC",
      "execution_count": 43,
      "outputs": [
        {
          "output_type": "stream",
          "name": "stdout",
          "text": [
            "최상의 매개변수: {'subsample': 0.65, 'n_estimators': 300, 'learning_rate': 0.05}\n",
            "훈련 점수: 636.200\n",
            "테스트 세트 점수: 625.985\n"
          ]
        }
      ]
    },
    {
      "cell_type": "code",
      "source": [
        "gbr = GradientBoostingRegressor(max_depth = 3, n_estimators = 1600, subsample = 0.75, learning_rate = 0.02, random_state = 2)\n",
        "gbr.fit(x_train, y_train)\n",
        "y_pred = gbr.predict(x_test)\n",
        "MSE(y_test, y_pred) ** 0.5"
      ],
      "metadata": {
        "id": "92tjdl72aiLr",
        "outputId": "3855be9b-0053-4f11-8189-ad3502297cd3",
        "colab": {
          "base_uri": "https://localhost:8080/"
        }
      },
      "id": "92tjdl72aiLr",
      "execution_count": 45,
      "outputs": [
        {
          "output_type": "execute_result",
          "data": {
            "text/plain": [
              "596.9544588974487"
            ]
          },
          "metadata": {},
          "execution_count": 45
        }
      ]
    },
    {
      "cell_type": "code",
      "source": [
        "from xgboost import XGBRegressor\n",
        "xg_reg = XGBRegressor(max_depth = 3, n_estimatos = 1600, eta = 0.02, subsample = 0.75, random_state = 2)\n",
        "xg_reg.fit(x_train, y_train)\n",
        "y_pred = xg_reg.predict(x_test)\n",
        "MSE(y_test, y_pred) ** 0.5"
      ],
      "metadata": {
        "id": "JqIXzQCcbjAT",
        "outputId": "7d57db92-dd9f-43f1-fc15-fbdba6029c18",
        "colab": {
          "base_uri": "https://localhost:8080/"
        }
      },
      "id": "JqIXzQCcbjAT",
      "execution_count": 49,
      "outputs": [
        {
          "output_type": "stream",
          "name": "stdout",
          "text": [
            "[02:19:13] WARNING: /workspace/src/objective/regression_obj.cu:152: reg:linear is now deprecated in favor of reg:squarederror.\n"
          ]
        },
        {
          "output_type": "execute_result",
          "data": {
            "text/plain": [
              "611.7382313363339"
            ]
          },
          "metadata": {},
          "execution_count": 49
        }
      ]
    },
    {
      "cell_type": "code",
      "source": [
        "from google.colab import drive\n",
        "drive.mount('/content/drive')"
      ],
      "metadata": {
        "id": "JVlxOD6Uijh-",
        "outputId": "b90c1f1c-c43b-4c54-b4ba-7b2169408582",
        "colab": {
          "base_uri": "https://localhost:8080/"
        }
      },
      "id": "JVlxOD6Uijh-",
      "execution_count": 51,
      "outputs": [
        {
          "output_type": "stream",
          "name": "stdout",
          "text": [
            "Mounted at /content/drive\n"
          ]
        }
      ]
    },
    {
      "cell_type": "code",
      "source": [
        "df = pd.read_csv('/content/drive/MyDrive/exoplanets.csv')\n",
        "df.head()"
      ],
      "metadata": {
        "id": "6TdmjxpxiksK",
        "outputId": "449f8ac3-1f9b-487c-cc31-89b0ef9fe57b",
        "colab": {
          "base_uri": "https://localhost:8080/",
          "height": 299
        }
      },
      "id": "6TdmjxpxiksK",
      "execution_count": 59,
      "outputs": [
        {
          "output_type": "execute_result",
          "data": {
            "text/plain": [
              "   LABEL   FLUX.1   FLUX.2   FLUX.3   FLUX.4   FLUX.5   FLUX.6  FLUX.7  \\\n",
              "0      2    93.85    83.81    20.10   -26.98   -39.56  -124.71 -135.18   \n",
              "1      2   -38.88   -33.83   -58.54   -40.09   -79.31   -72.81  -86.55   \n",
              "2      2   532.64   535.92   513.73   496.92   456.45   466.00  464.50   \n",
              "3      2   326.52   347.39   302.35   298.13   317.74   312.70  322.33   \n",
              "4      2 -1107.21 -1112.59 -1118.95 -1095.10 -1057.55 -1034.48 -998.34   \n",
              "\n",
              "    FLUX.8  FLUX.9  ...  FLUX.3188  FLUX.3189  FLUX.3190  FLUX.3191  \\\n",
              "0   -96.27  -79.89  ...     -78.07    -102.15    -102.15      25.13   \n",
              "1   -85.33  -83.97  ...      -3.28     -32.21     -32.21     -24.89   \n",
              "2   486.39  436.56  ...     -71.69      13.31      13.31     -29.89   \n",
              "3   311.31  312.42  ...       5.71      -3.73      -3.73      30.05   \n",
              "4 -1022.71 -989.57  ...    -594.37    -401.66    -401.66    -357.24   \n",
              "\n",
              "   FLUX.3192  FLUX.3193  FLUX.3194  FLUX.3195  FLUX.3196  FLUX.3197  \n",
              "0      48.57      92.54      39.32      61.42       5.08     -39.54  \n",
              "1      -4.86       0.76     -11.70       6.46      16.00      19.93  \n",
              "2     -20.88       5.06     -11.80     -28.91     -70.02     -96.67  \n",
              "3      20.03     -12.67      -8.77     -17.31     -17.35      13.98  \n",
              "4    -443.76    -438.54    -399.71    -384.65    -411.79    -510.54  \n",
              "\n",
              "[5 rows x 3198 columns]"
            ],
            "text/html": [
              "\n",
              "  <div id=\"df-43d8019f-80ac-459e-8f23-11a7e51192b1\">\n",
              "    <div class=\"colab-df-container\">\n",
              "      <div>\n",
              "<style scoped>\n",
              "    .dataframe tbody tr th:only-of-type {\n",
              "        vertical-align: middle;\n",
              "    }\n",
              "\n",
              "    .dataframe tbody tr th {\n",
              "        vertical-align: top;\n",
              "    }\n",
              "\n",
              "    .dataframe thead th {\n",
              "        text-align: right;\n",
              "    }\n",
              "</style>\n",
              "<table border=\"1\" class=\"dataframe\">\n",
              "  <thead>\n",
              "    <tr style=\"text-align: right;\">\n",
              "      <th></th>\n",
              "      <th>LABEL</th>\n",
              "      <th>FLUX.1</th>\n",
              "      <th>FLUX.2</th>\n",
              "      <th>FLUX.3</th>\n",
              "      <th>FLUX.4</th>\n",
              "      <th>FLUX.5</th>\n",
              "      <th>FLUX.6</th>\n",
              "      <th>FLUX.7</th>\n",
              "      <th>FLUX.8</th>\n",
              "      <th>FLUX.9</th>\n",
              "      <th>...</th>\n",
              "      <th>FLUX.3188</th>\n",
              "      <th>FLUX.3189</th>\n",
              "      <th>FLUX.3190</th>\n",
              "      <th>FLUX.3191</th>\n",
              "      <th>FLUX.3192</th>\n",
              "      <th>FLUX.3193</th>\n",
              "      <th>FLUX.3194</th>\n",
              "      <th>FLUX.3195</th>\n",
              "      <th>FLUX.3196</th>\n",
              "      <th>FLUX.3197</th>\n",
              "    </tr>\n",
              "  </thead>\n",
              "  <tbody>\n",
              "    <tr>\n",
              "      <th>0</th>\n",
              "      <td>2</td>\n",
              "      <td>93.85</td>\n",
              "      <td>83.81</td>\n",
              "      <td>20.10</td>\n",
              "      <td>-26.98</td>\n",
              "      <td>-39.56</td>\n",
              "      <td>-124.71</td>\n",
              "      <td>-135.18</td>\n",
              "      <td>-96.27</td>\n",
              "      <td>-79.89</td>\n",
              "      <td>...</td>\n",
              "      <td>-78.07</td>\n",
              "      <td>-102.15</td>\n",
              "      <td>-102.15</td>\n",
              "      <td>25.13</td>\n",
              "      <td>48.57</td>\n",
              "      <td>92.54</td>\n",
              "      <td>39.32</td>\n",
              "      <td>61.42</td>\n",
              "      <td>5.08</td>\n",
              "      <td>-39.54</td>\n",
              "    </tr>\n",
              "    <tr>\n",
              "      <th>1</th>\n",
              "      <td>2</td>\n",
              "      <td>-38.88</td>\n",
              "      <td>-33.83</td>\n",
              "      <td>-58.54</td>\n",
              "      <td>-40.09</td>\n",
              "      <td>-79.31</td>\n",
              "      <td>-72.81</td>\n",
              "      <td>-86.55</td>\n",
              "      <td>-85.33</td>\n",
              "      <td>-83.97</td>\n",
              "      <td>...</td>\n",
              "      <td>-3.28</td>\n",
              "      <td>-32.21</td>\n",
              "      <td>-32.21</td>\n",
              "      <td>-24.89</td>\n",
              "      <td>-4.86</td>\n",
              "      <td>0.76</td>\n",
              "      <td>-11.70</td>\n",
              "      <td>6.46</td>\n",
              "      <td>16.00</td>\n",
              "      <td>19.93</td>\n",
              "    </tr>\n",
              "    <tr>\n",
              "      <th>2</th>\n",
              "      <td>2</td>\n",
              "      <td>532.64</td>\n",
              "      <td>535.92</td>\n",
              "      <td>513.73</td>\n",
              "      <td>496.92</td>\n",
              "      <td>456.45</td>\n",
              "      <td>466.00</td>\n",
              "      <td>464.50</td>\n",
              "      <td>486.39</td>\n",
              "      <td>436.56</td>\n",
              "      <td>...</td>\n",
              "      <td>-71.69</td>\n",
              "      <td>13.31</td>\n",
              "      <td>13.31</td>\n",
              "      <td>-29.89</td>\n",
              "      <td>-20.88</td>\n",
              "      <td>5.06</td>\n",
              "      <td>-11.80</td>\n",
              "      <td>-28.91</td>\n",
              "      <td>-70.02</td>\n",
              "      <td>-96.67</td>\n",
              "    </tr>\n",
              "    <tr>\n",
              "      <th>3</th>\n",
              "      <td>2</td>\n",
              "      <td>326.52</td>\n",
              "      <td>347.39</td>\n",
              "      <td>302.35</td>\n",
              "      <td>298.13</td>\n",
              "      <td>317.74</td>\n",
              "      <td>312.70</td>\n",
              "      <td>322.33</td>\n",
              "      <td>311.31</td>\n",
              "      <td>312.42</td>\n",
              "      <td>...</td>\n",
              "      <td>5.71</td>\n",
              "      <td>-3.73</td>\n",
              "      <td>-3.73</td>\n",
              "      <td>30.05</td>\n",
              "      <td>20.03</td>\n",
              "      <td>-12.67</td>\n",
              "      <td>-8.77</td>\n",
              "      <td>-17.31</td>\n",
              "      <td>-17.35</td>\n",
              "      <td>13.98</td>\n",
              "    </tr>\n",
              "    <tr>\n",
              "      <th>4</th>\n",
              "      <td>2</td>\n",
              "      <td>-1107.21</td>\n",
              "      <td>-1112.59</td>\n",
              "      <td>-1118.95</td>\n",
              "      <td>-1095.10</td>\n",
              "      <td>-1057.55</td>\n",
              "      <td>-1034.48</td>\n",
              "      <td>-998.34</td>\n",
              "      <td>-1022.71</td>\n",
              "      <td>-989.57</td>\n",
              "      <td>...</td>\n",
              "      <td>-594.37</td>\n",
              "      <td>-401.66</td>\n",
              "      <td>-401.66</td>\n",
              "      <td>-357.24</td>\n",
              "      <td>-443.76</td>\n",
              "      <td>-438.54</td>\n",
              "      <td>-399.71</td>\n",
              "      <td>-384.65</td>\n",
              "      <td>-411.79</td>\n",
              "      <td>-510.54</td>\n",
              "    </tr>\n",
              "  </tbody>\n",
              "</table>\n",
              "<p>5 rows × 3198 columns</p>\n",
              "</div>\n",
              "      <button class=\"colab-df-convert\" onclick=\"convertToInteractive('df-43d8019f-80ac-459e-8f23-11a7e51192b1')\"\n",
              "              title=\"Convert this dataframe to an interactive table.\"\n",
              "              style=\"display:none;\">\n",
              "        \n",
              "  <svg xmlns=\"http://www.w3.org/2000/svg\" height=\"24px\"viewBox=\"0 0 24 24\"\n",
              "       width=\"24px\">\n",
              "    <path d=\"M0 0h24v24H0V0z\" fill=\"none\"/>\n",
              "    <path d=\"M18.56 5.44l.94 2.06.94-2.06 2.06-.94-2.06-.94-.94-2.06-.94 2.06-2.06.94zm-11 1L8.5 8.5l.94-2.06 2.06-.94-2.06-.94L8.5 2.5l-.94 2.06-2.06.94zm10 10l.94 2.06.94-2.06 2.06-.94-2.06-.94-.94-2.06-.94 2.06-2.06.94z\"/><path d=\"M17.41 7.96l-1.37-1.37c-.4-.4-.92-.59-1.43-.59-.52 0-1.04.2-1.43.59L10.3 9.45l-7.72 7.72c-.78.78-.78 2.05 0 2.83L4 21.41c.39.39.9.59 1.41.59.51 0 1.02-.2 1.41-.59l7.78-7.78 2.81-2.81c.8-.78.8-2.07 0-2.86zM5.41 20L4 18.59l7.72-7.72 1.47 1.35L5.41 20z\"/>\n",
              "  </svg>\n",
              "      </button>\n",
              "      \n",
              "  <style>\n",
              "    .colab-df-container {\n",
              "      display:flex;\n",
              "      flex-wrap:wrap;\n",
              "      gap: 12px;\n",
              "    }\n",
              "\n",
              "    .colab-df-convert {\n",
              "      background-color: #E8F0FE;\n",
              "      border: none;\n",
              "      border-radius: 50%;\n",
              "      cursor: pointer;\n",
              "      display: none;\n",
              "      fill: #1967D2;\n",
              "      height: 32px;\n",
              "      padding: 0 0 0 0;\n",
              "      width: 32px;\n",
              "    }\n",
              "\n",
              "    .colab-df-convert:hover {\n",
              "      background-color: #E2EBFA;\n",
              "      box-shadow: 0px 1px 2px rgba(60, 64, 67, 0.3), 0px 1px 3px 1px rgba(60, 64, 67, 0.15);\n",
              "      fill: #174EA6;\n",
              "    }\n",
              "\n",
              "    [theme=dark] .colab-df-convert {\n",
              "      background-color: #3B4455;\n",
              "      fill: #D2E3FC;\n",
              "    }\n",
              "\n",
              "    [theme=dark] .colab-df-convert:hover {\n",
              "      background-color: #434B5C;\n",
              "      box-shadow: 0px 1px 3px 1px rgba(0, 0, 0, 0.15);\n",
              "      filter: drop-shadow(0px 1px 2px rgba(0, 0, 0, 0.3));\n",
              "      fill: #FFFFFF;\n",
              "    }\n",
              "  </style>\n",
              "\n",
              "      <script>\n",
              "        const buttonEl =\n",
              "          document.querySelector('#df-43d8019f-80ac-459e-8f23-11a7e51192b1 button.colab-df-convert');\n",
              "        buttonEl.style.display =\n",
              "          google.colab.kernel.accessAllowed ? 'block' : 'none';\n",
              "\n",
              "        async function convertToInteractive(key) {\n",
              "          const element = document.querySelector('#df-43d8019f-80ac-459e-8f23-11a7e51192b1');\n",
              "          const dataTable =\n",
              "            await google.colab.kernel.invokeFunction('convertToInteractive',\n",
              "                                                     [key], {});\n",
              "          if (!dataTable) return;\n",
              "\n",
              "          const docLinkHtml = 'Like what you see? Visit the ' +\n",
              "            '<a target=\"_blank\" href=https://colab.research.google.com/notebooks/data_table.ipynb>data table notebook</a>'\n",
              "            + ' to learn more about interactive tables.';\n",
              "          element.innerHTML = '';\n",
              "          dataTable['output_type'] = 'display_data';\n",
              "          await google.colab.output.renderOutput(dataTable, element);\n",
              "          const docLink = document.createElement('div');\n",
              "          docLink.innerHTML = docLinkHtml;\n",
              "          element.appendChild(docLink);\n",
              "        }\n",
              "      </script>\n",
              "    </div>\n",
              "  </div>\n",
              "  "
            ]
          },
          "metadata": {},
          "execution_count": 59
        }
      ]
    },
    {
      "cell_type": "code",
      "source": [
        "df.shape"
      ],
      "metadata": {
        "id": "6723gSEEjF27",
        "outputId": "b0b673cf-a086-43cb-b5d6-d0c8b4350f7e",
        "colab": {
          "base_uri": "https://localhost:8080/"
        }
      },
      "id": "6723gSEEjF27",
      "execution_count": 60,
      "outputs": [
        {
          "output_type": "execute_result",
          "data": {
            "text/plain": [
              "(5087, 3198)"
            ]
          },
          "metadata": {},
          "execution_count": 60
        }
      ]
    },
    {
      "cell_type": "code",
      "source": [
        "df.info()"
      ],
      "metadata": {
        "id": "cX6AAO-pjHyr",
        "outputId": "da772c9f-aa97-4c94-d5c2-f75b84fa4f40",
        "colab": {
          "base_uri": "https://localhost:8080/"
        }
      },
      "id": "cX6AAO-pjHyr",
      "execution_count": 61,
      "outputs": [
        {
          "output_type": "stream",
          "name": "stdout",
          "text": [
            "<class 'pandas.core.frame.DataFrame'>\n",
            "RangeIndex: 5087 entries, 0 to 5086\n",
            "Columns: 3198 entries, LABEL to FLUX.3197\n",
            "dtypes: float64(3197), int64(1)\n",
            "memory usage: 124.1 MB\n"
          ]
        }
      ]
    },
    {
      "cell_type": "code",
      "source": [
        "df.describe()"
      ],
      "metadata": {
        "id": "CNcKdcNw4_28",
        "outputId": "39555f1a-6e14-4703-ee29-b604e7443345",
        "colab": {
          "base_uri": "https://localhost:8080/",
          "height": 393
        }
      },
      "id": "CNcKdcNw4_28",
      "execution_count": 62,
      "outputs": [
        {
          "output_type": "execute_result",
          "data": {
            "text/plain": [
              "             LABEL        FLUX.1        FLUX.2        FLUX.3        FLUX.4  \\\n",
              "count  5087.000000  5.087000e+03  5.087000e+03  5.087000e+03  5.087000e+03   \n",
              "mean      1.007273  1.445054e+02  1.285778e+02  1.471348e+02  1.561512e+02   \n",
              "std       0.084982  2.150669e+04  2.179717e+04  2.191309e+04  2.223366e+04   \n",
              "min       1.000000 -2.278563e+05 -3.154408e+05 -2.840018e+05 -2.340069e+05   \n",
              "25%       1.000000 -4.234000e+01 -3.952000e+01 -3.850500e+01 -3.505000e+01   \n",
              "50%       1.000000 -7.100000e-01 -8.900000e-01 -7.400000e-01 -4.000000e-01   \n",
              "75%       1.000000  4.825500e+01  4.428500e+01  4.232500e+01  3.976500e+01   \n",
              "max       2.000000  1.439240e+06  1.453319e+06  1.468429e+06  1.495750e+06   \n",
              "\n",
              "             FLUX.5        FLUX.6        FLUX.7        FLUX.8        FLUX.9  \\\n",
              "count  5.087000e+03  5.087000e+03  5.087000e+03  5.087000e+03  5.087000e+03   \n",
              "mean   1.561477e+02  1.469646e+02  1.168380e+02  1.144983e+02  1.228639e+02   \n",
              "std    2.308448e+04  2.410567e+04  2.414109e+04  2.290691e+04  2.102681e+04   \n",
              "min   -4.231956e+05 -5.975521e+05 -6.724046e+05 -5.790136e+05 -3.973882e+05   \n",
              "25%   -3.195500e+01 -3.338000e+01 -2.813000e+01 -2.784000e+01 -2.683500e+01   \n",
              "50%   -6.100000e-01 -1.030000e+00 -8.700000e-01 -6.600000e-01 -5.600000e-01   \n",
              "75%    3.975000e+01  3.514000e+01  3.406000e+01  3.170000e+01  3.045500e+01   \n",
              "max    1.510937e+06  1.508152e+06  1.465743e+06  1.416827e+06  1.342888e+06   \n",
              "\n",
              "       ...     FLUX.3188     FLUX.3189     FLUX.3190     FLUX.3191  \\\n",
              "count  ...  5.087000e+03  5.087000e+03  5.087000e+03  5.087000e+03   \n",
              "mean   ...  3.485578e+02  4.956476e+02  6.711211e+02  7.468790e+02   \n",
              "std    ...  2.864786e+04  3.551876e+04  4.349963e+04  4.981375e+04   \n",
              "min    ... -3.240480e+05 -3.045540e+05 -2.933140e+05 -2.838420e+05   \n",
              "25%    ... -1.760000e+01 -1.948500e+01 -1.757000e+01 -2.076000e+01   \n",
              "50%    ...  2.600000e+00  2.680000e+00  3.050000e+00  3.590000e+00   \n",
              "75%    ...  2.211000e+01  2.235000e+01  2.639500e+01  2.909000e+01   \n",
              "max    ...  1.779338e+06  2.379227e+06  2.992070e+06  3.434973e+06   \n",
              "\n",
              "          FLUX.3192     FLUX.3193      FLUX.3194      FLUX.3195  \\\n",
              "count  5.087000e+03  5.087000e+03    5087.000000    5087.000000   \n",
              "mean   6.937372e+02  6.553031e+02    -494.784966    -544.594264   \n",
              "std    5.087103e+04  5.339979e+04   17844.469520   17722.339334   \n",
              "min   -3.288214e+05 -5.028894e+05 -775322.000000 -732006.000000   \n",
              "25%   -2.226000e+01 -2.440500e+01     -26.760000     -24.065000   \n",
              "50%    3.230000e+00  3.500000e+00      -0.680000       0.360000   \n",
              "75%    2.780000e+01  3.085500e+01      18.175000      18.770000   \n",
              "max    3.481220e+06  3.616292e+06  288607.500000  215972.000000   \n",
              "\n",
              "           FLUX.3196      FLUX.3197  \n",
              "count    5087.000000    5087.000000  \n",
              "mean     -440.239100    -300.536399  \n",
              "std     16273.406292   14459.795577  \n",
              "min   -700992.000000 -643170.000000  \n",
              "25%       -21.135000     -19.820000  \n",
              "50%         0.900000       1.430000  \n",
              "75%        19.465000      20.280000  \n",
              "max    207590.000000  211302.000000  \n",
              "\n",
              "[8 rows x 3198 columns]"
            ],
            "text/html": [
              "\n",
              "  <div id=\"df-7f47fee5-b915-45bf-bb21-63a5d986cd92\">\n",
              "    <div class=\"colab-df-container\">\n",
              "      <div>\n",
              "<style scoped>\n",
              "    .dataframe tbody tr th:only-of-type {\n",
              "        vertical-align: middle;\n",
              "    }\n",
              "\n",
              "    .dataframe tbody tr th {\n",
              "        vertical-align: top;\n",
              "    }\n",
              "\n",
              "    .dataframe thead th {\n",
              "        text-align: right;\n",
              "    }\n",
              "</style>\n",
              "<table border=\"1\" class=\"dataframe\">\n",
              "  <thead>\n",
              "    <tr style=\"text-align: right;\">\n",
              "      <th></th>\n",
              "      <th>LABEL</th>\n",
              "      <th>FLUX.1</th>\n",
              "      <th>FLUX.2</th>\n",
              "      <th>FLUX.3</th>\n",
              "      <th>FLUX.4</th>\n",
              "      <th>FLUX.5</th>\n",
              "      <th>FLUX.6</th>\n",
              "      <th>FLUX.7</th>\n",
              "      <th>FLUX.8</th>\n",
              "      <th>FLUX.9</th>\n",
              "      <th>...</th>\n",
              "      <th>FLUX.3188</th>\n",
              "      <th>FLUX.3189</th>\n",
              "      <th>FLUX.3190</th>\n",
              "      <th>FLUX.3191</th>\n",
              "      <th>FLUX.3192</th>\n",
              "      <th>FLUX.3193</th>\n",
              "      <th>FLUX.3194</th>\n",
              "      <th>FLUX.3195</th>\n",
              "      <th>FLUX.3196</th>\n",
              "      <th>FLUX.3197</th>\n",
              "    </tr>\n",
              "  </thead>\n",
              "  <tbody>\n",
              "    <tr>\n",
              "      <th>count</th>\n",
              "      <td>5087.000000</td>\n",
              "      <td>5.087000e+03</td>\n",
              "      <td>5.087000e+03</td>\n",
              "      <td>5.087000e+03</td>\n",
              "      <td>5.087000e+03</td>\n",
              "      <td>5.087000e+03</td>\n",
              "      <td>5.087000e+03</td>\n",
              "      <td>5.087000e+03</td>\n",
              "      <td>5.087000e+03</td>\n",
              "      <td>5.087000e+03</td>\n",
              "      <td>...</td>\n",
              "      <td>5.087000e+03</td>\n",
              "      <td>5.087000e+03</td>\n",
              "      <td>5.087000e+03</td>\n",
              "      <td>5.087000e+03</td>\n",
              "      <td>5.087000e+03</td>\n",
              "      <td>5.087000e+03</td>\n",
              "      <td>5087.000000</td>\n",
              "      <td>5087.000000</td>\n",
              "      <td>5087.000000</td>\n",
              "      <td>5087.000000</td>\n",
              "    </tr>\n",
              "    <tr>\n",
              "      <th>mean</th>\n",
              "      <td>1.007273</td>\n",
              "      <td>1.445054e+02</td>\n",
              "      <td>1.285778e+02</td>\n",
              "      <td>1.471348e+02</td>\n",
              "      <td>1.561512e+02</td>\n",
              "      <td>1.561477e+02</td>\n",
              "      <td>1.469646e+02</td>\n",
              "      <td>1.168380e+02</td>\n",
              "      <td>1.144983e+02</td>\n",
              "      <td>1.228639e+02</td>\n",
              "      <td>...</td>\n",
              "      <td>3.485578e+02</td>\n",
              "      <td>4.956476e+02</td>\n",
              "      <td>6.711211e+02</td>\n",
              "      <td>7.468790e+02</td>\n",
              "      <td>6.937372e+02</td>\n",
              "      <td>6.553031e+02</td>\n",
              "      <td>-494.784966</td>\n",
              "      <td>-544.594264</td>\n",
              "      <td>-440.239100</td>\n",
              "      <td>-300.536399</td>\n",
              "    </tr>\n",
              "    <tr>\n",
              "      <th>std</th>\n",
              "      <td>0.084982</td>\n",
              "      <td>2.150669e+04</td>\n",
              "      <td>2.179717e+04</td>\n",
              "      <td>2.191309e+04</td>\n",
              "      <td>2.223366e+04</td>\n",
              "      <td>2.308448e+04</td>\n",
              "      <td>2.410567e+04</td>\n",
              "      <td>2.414109e+04</td>\n",
              "      <td>2.290691e+04</td>\n",
              "      <td>2.102681e+04</td>\n",
              "      <td>...</td>\n",
              "      <td>2.864786e+04</td>\n",
              "      <td>3.551876e+04</td>\n",
              "      <td>4.349963e+04</td>\n",
              "      <td>4.981375e+04</td>\n",
              "      <td>5.087103e+04</td>\n",
              "      <td>5.339979e+04</td>\n",
              "      <td>17844.469520</td>\n",
              "      <td>17722.339334</td>\n",
              "      <td>16273.406292</td>\n",
              "      <td>14459.795577</td>\n",
              "    </tr>\n",
              "    <tr>\n",
              "      <th>min</th>\n",
              "      <td>1.000000</td>\n",
              "      <td>-2.278563e+05</td>\n",
              "      <td>-3.154408e+05</td>\n",
              "      <td>-2.840018e+05</td>\n",
              "      <td>-2.340069e+05</td>\n",
              "      <td>-4.231956e+05</td>\n",
              "      <td>-5.975521e+05</td>\n",
              "      <td>-6.724046e+05</td>\n",
              "      <td>-5.790136e+05</td>\n",
              "      <td>-3.973882e+05</td>\n",
              "      <td>...</td>\n",
              "      <td>-3.240480e+05</td>\n",
              "      <td>-3.045540e+05</td>\n",
              "      <td>-2.933140e+05</td>\n",
              "      <td>-2.838420e+05</td>\n",
              "      <td>-3.288214e+05</td>\n",
              "      <td>-5.028894e+05</td>\n",
              "      <td>-775322.000000</td>\n",
              "      <td>-732006.000000</td>\n",
              "      <td>-700992.000000</td>\n",
              "      <td>-643170.000000</td>\n",
              "    </tr>\n",
              "    <tr>\n",
              "      <th>25%</th>\n",
              "      <td>1.000000</td>\n",
              "      <td>-4.234000e+01</td>\n",
              "      <td>-3.952000e+01</td>\n",
              "      <td>-3.850500e+01</td>\n",
              "      <td>-3.505000e+01</td>\n",
              "      <td>-3.195500e+01</td>\n",
              "      <td>-3.338000e+01</td>\n",
              "      <td>-2.813000e+01</td>\n",
              "      <td>-2.784000e+01</td>\n",
              "      <td>-2.683500e+01</td>\n",
              "      <td>...</td>\n",
              "      <td>-1.760000e+01</td>\n",
              "      <td>-1.948500e+01</td>\n",
              "      <td>-1.757000e+01</td>\n",
              "      <td>-2.076000e+01</td>\n",
              "      <td>-2.226000e+01</td>\n",
              "      <td>-2.440500e+01</td>\n",
              "      <td>-26.760000</td>\n",
              "      <td>-24.065000</td>\n",
              "      <td>-21.135000</td>\n",
              "      <td>-19.820000</td>\n",
              "    </tr>\n",
              "    <tr>\n",
              "      <th>50%</th>\n",
              "      <td>1.000000</td>\n",
              "      <td>-7.100000e-01</td>\n",
              "      <td>-8.900000e-01</td>\n",
              "      <td>-7.400000e-01</td>\n",
              "      <td>-4.000000e-01</td>\n",
              "      <td>-6.100000e-01</td>\n",
              "      <td>-1.030000e+00</td>\n",
              "      <td>-8.700000e-01</td>\n",
              "      <td>-6.600000e-01</td>\n",
              "      <td>-5.600000e-01</td>\n",
              "      <td>...</td>\n",
              "      <td>2.600000e+00</td>\n",
              "      <td>2.680000e+00</td>\n",
              "      <td>3.050000e+00</td>\n",
              "      <td>3.590000e+00</td>\n",
              "      <td>3.230000e+00</td>\n",
              "      <td>3.500000e+00</td>\n",
              "      <td>-0.680000</td>\n",
              "      <td>0.360000</td>\n",
              "      <td>0.900000</td>\n",
              "      <td>1.430000</td>\n",
              "    </tr>\n",
              "    <tr>\n",
              "      <th>75%</th>\n",
              "      <td>1.000000</td>\n",
              "      <td>4.825500e+01</td>\n",
              "      <td>4.428500e+01</td>\n",
              "      <td>4.232500e+01</td>\n",
              "      <td>3.976500e+01</td>\n",
              "      <td>3.975000e+01</td>\n",
              "      <td>3.514000e+01</td>\n",
              "      <td>3.406000e+01</td>\n",
              "      <td>3.170000e+01</td>\n",
              "      <td>3.045500e+01</td>\n",
              "      <td>...</td>\n",
              "      <td>2.211000e+01</td>\n",
              "      <td>2.235000e+01</td>\n",
              "      <td>2.639500e+01</td>\n",
              "      <td>2.909000e+01</td>\n",
              "      <td>2.780000e+01</td>\n",
              "      <td>3.085500e+01</td>\n",
              "      <td>18.175000</td>\n",
              "      <td>18.770000</td>\n",
              "      <td>19.465000</td>\n",
              "      <td>20.280000</td>\n",
              "    </tr>\n",
              "    <tr>\n",
              "      <th>max</th>\n",
              "      <td>2.000000</td>\n",
              "      <td>1.439240e+06</td>\n",
              "      <td>1.453319e+06</td>\n",
              "      <td>1.468429e+06</td>\n",
              "      <td>1.495750e+06</td>\n",
              "      <td>1.510937e+06</td>\n",
              "      <td>1.508152e+06</td>\n",
              "      <td>1.465743e+06</td>\n",
              "      <td>1.416827e+06</td>\n",
              "      <td>1.342888e+06</td>\n",
              "      <td>...</td>\n",
              "      <td>1.779338e+06</td>\n",
              "      <td>2.379227e+06</td>\n",
              "      <td>2.992070e+06</td>\n",
              "      <td>3.434973e+06</td>\n",
              "      <td>3.481220e+06</td>\n",
              "      <td>3.616292e+06</td>\n",
              "      <td>288607.500000</td>\n",
              "      <td>215972.000000</td>\n",
              "      <td>207590.000000</td>\n",
              "      <td>211302.000000</td>\n",
              "    </tr>\n",
              "  </tbody>\n",
              "</table>\n",
              "<p>8 rows × 3198 columns</p>\n",
              "</div>\n",
              "      <button class=\"colab-df-convert\" onclick=\"convertToInteractive('df-7f47fee5-b915-45bf-bb21-63a5d986cd92')\"\n",
              "              title=\"Convert this dataframe to an interactive table.\"\n",
              "              style=\"display:none;\">\n",
              "        \n",
              "  <svg xmlns=\"http://www.w3.org/2000/svg\" height=\"24px\"viewBox=\"0 0 24 24\"\n",
              "       width=\"24px\">\n",
              "    <path d=\"M0 0h24v24H0V0z\" fill=\"none\"/>\n",
              "    <path d=\"M18.56 5.44l.94 2.06.94-2.06 2.06-.94-2.06-.94-.94-2.06-.94 2.06-2.06.94zm-11 1L8.5 8.5l.94-2.06 2.06-.94-2.06-.94L8.5 2.5l-.94 2.06-2.06.94zm10 10l.94 2.06.94-2.06 2.06-.94-2.06-.94-.94-2.06-.94 2.06-2.06.94z\"/><path d=\"M17.41 7.96l-1.37-1.37c-.4-.4-.92-.59-1.43-.59-.52 0-1.04.2-1.43.59L10.3 9.45l-7.72 7.72c-.78.78-.78 2.05 0 2.83L4 21.41c.39.39.9.59 1.41.59.51 0 1.02-.2 1.41-.59l7.78-7.78 2.81-2.81c.8-.78.8-2.07 0-2.86zM5.41 20L4 18.59l7.72-7.72 1.47 1.35L5.41 20z\"/>\n",
              "  </svg>\n",
              "      </button>\n",
              "      \n",
              "  <style>\n",
              "    .colab-df-container {\n",
              "      display:flex;\n",
              "      flex-wrap:wrap;\n",
              "      gap: 12px;\n",
              "    }\n",
              "\n",
              "    .colab-df-convert {\n",
              "      background-color: #E8F0FE;\n",
              "      border: none;\n",
              "      border-radius: 50%;\n",
              "      cursor: pointer;\n",
              "      display: none;\n",
              "      fill: #1967D2;\n",
              "      height: 32px;\n",
              "      padding: 0 0 0 0;\n",
              "      width: 32px;\n",
              "    }\n",
              "\n",
              "    .colab-df-convert:hover {\n",
              "      background-color: #E2EBFA;\n",
              "      box-shadow: 0px 1px 2px rgba(60, 64, 67, 0.3), 0px 1px 3px 1px rgba(60, 64, 67, 0.15);\n",
              "      fill: #174EA6;\n",
              "    }\n",
              "\n",
              "    [theme=dark] .colab-df-convert {\n",
              "      background-color: #3B4455;\n",
              "      fill: #D2E3FC;\n",
              "    }\n",
              "\n",
              "    [theme=dark] .colab-df-convert:hover {\n",
              "      background-color: #434B5C;\n",
              "      box-shadow: 0px 1px 3px 1px rgba(0, 0, 0, 0.15);\n",
              "      filter: drop-shadow(0px 1px 2px rgba(0, 0, 0, 0.3));\n",
              "      fill: #FFFFFF;\n",
              "    }\n",
              "  </style>\n",
              "\n",
              "      <script>\n",
              "        const buttonEl =\n",
              "          document.querySelector('#df-7f47fee5-b915-45bf-bb21-63a5d986cd92 button.colab-df-convert');\n",
              "        buttonEl.style.display =\n",
              "          google.colab.kernel.accessAllowed ? 'block' : 'none';\n",
              "\n",
              "        async function convertToInteractive(key) {\n",
              "          const element = document.querySelector('#df-7f47fee5-b915-45bf-bb21-63a5d986cd92');\n",
              "          const dataTable =\n",
              "            await google.colab.kernel.invokeFunction('convertToInteractive',\n",
              "                                                     [key], {});\n",
              "          if (!dataTable) return;\n",
              "\n",
              "          const docLinkHtml = 'Like what you see? Visit the ' +\n",
              "            '<a target=\"_blank\" href=https://colab.research.google.com/notebooks/data_table.ipynb>data table notebook</a>'\n",
              "            + ' to learn more about interactive tables.';\n",
              "          element.innerHTML = '';\n",
              "          dataTable['output_type'] = 'display_data';\n",
              "          await google.colab.output.renderOutput(dataTable, element);\n",
              "          const docLink = document.createElement('div');\n",
              "          docLink.innerHTML = docLinkHtml;\n",
              "          element.appendChild(docLink);\n",
              "        }\n",
              "      </script>\n",
              "    </div>\n",
              "  </div>\n",
              "  "
            ]
          },
          "metadata": {},
          "execution_count": 62
        }
      ]
    },
    {
      "cell_type": "code",
      "source": [
        "df.isnull().sum().sum()"
      ],
      "metadata": {
        "id": "x7cy4xg05E5S",
        "outputId": "68c41749-7b43-4393-fa35-cb9c8b78e13d",
        "colab": {
          "base_uri": "https://localhost:8080/"
        }
      },
      "id": "x7cy4xg05E5S",
      "execution_count": 63,
      "outputs": [
        {
          "output_type": "execute_result",
          "data": {
            "text/plain": [
              "0"
            ]
          },
          "metadata": {},
          "execution_count": 63
        }
      ]
    },
    {
      "cell_type": "code",
      "source": [
        "x = df.iloc[:, 1:]\n",
        "y = df.iloc[:, 0]\n",
        "x_train, x_test, y_train, y_test = tts(x, y, random_state = 2)"
      ],
      "metadata": {
        "id": "tazOFbKM5Lia"
      },
      "id": "tazOFbKM5Lia",
      "execution_count": 64,
      "outputs": []
    },
    {
      "cell_type": "code",
      "source": [
        "from sklearn.ensemble import GradientBoostingClassifier\n",
        "from xgboost import XGBClassifier\n",
        "from sklearn.metrics import accuracy_score"
      ],
      "metadata": {
        "id": "clQ2zTdT5U7b"
      },
      "id": "clQ2zTdT5U7b",
      "execution_count": 65,
      "outputs": []
    },
    {
      "cell_type": "code",
      "source": [
        "import time"
      ],
      "metadata": {
        "id": "USMWIibJ5ita"
      },
      "id": "USMWIibJ5ita",
      "execution_count": 66,
      "outputs": []
    },
    {
      "cell_type": "code",
      "source": [
        "start = time.time()\n",
        "df.info()\n",
        "end = time.time()\n",
        "elapsed = end - start\n",
        "print(f'실행 시간: {elapsed}초')"
      ],
      "metadata": {
        "id": "H3XRtvG85mCq",
        "outputId": "ae796736-67b0-41d4-e7fd-54ea35503089",
        "colab": {
          "base_uri": "https://localhost:8080/"
        }
      },
      "id": "H3XRtvG85mCq",
      "execution_count": 72,
      "outputs": [
        {
          "output_type": "stream",
          "name": "stdout",
          "text": [
            "<class 'pandas.core.frame.DataFrame'>\n",
            "RangeIndex: 5087 entries, 0 to 5086\n",
            "Columns: 3198 entries, LABEL to FLUX.3197\n",
            "dtypes: float64(3197), int64(1)\n",
            "memory usage: 124.1 MB\n",
            "실행 시간: 0.040051937103271484초\n"
          ]
        }
      ]
    },
    {
      "cell_type": "code",
      "source": [
        "%timeit -n 100 -r 3 sum(np.square(range(10000)))"
      ],
      "metadata": {
        "id": "-uk6rvCr5w0T",
        "outputId": "4058ab16-ebce-4cdb-d586-dea109a20f46",
        "colab": {
          "base_uri": "https://localhost:8080/"
        }
      },
      "id": "-uk6rvCr5w0T",
      "execution_count": 73,
      "outputs": [
        {
          "output_type": "stream",
          "name": "stdout",
          "text": [
            "2.81 ms ± 376 µs per loop (mean ± std. dev. of 3 runs, 100 loops each)\n"
          ]
        }
      ]
    },
    {
      "cell_type": "code",
      "source": [
        "%%timeit -n 100 -r 3\n",
        "summing = 0\n",
        "for i in range(10000):\n",
        "  summing += i ** 2\n"
      ],
      "metadata": {
        "id": "kRdfOiSV6WZJ",
        "outputId": "1fa679b7-4b75-4d30-a5c2-1fa58cd35835",
        "colab": {
          "base_uri": "https://localhost:8080/"
        }
      },
      "id": "kRdfOiSV6WZJ",
      "execution_count": 74,
      "outputs": [
        {
          "output_type": "stream",
          "name": "stdout",
          "text": [
            "4.47 ms ± 545 µs per loop (mean ± std. dev. of 3 runs, 100 loops each)\n"
          ]
        }
      ]
    },
    {
      "cell_type": "code",
      "source": [
        "start = time.time()\n",
        "gbr = GradientBoostingClassifier(n_estimators = 100, max_depth = 2, random_state = 2)\n",
        "gbr.fit(x_train, y_train)\n",
        "y_pred = gbr.predict(x_test)\n",
        "score = accuracy_score(y_test, y_pred)\n",
        "end = time.time()\n",
        "print('점수:', score)\n",
        "print('실행 시간:', end - start)"
      ],
      "metadata": {
        "id": "UFa5oiwl6hpK",
        "outputId": "a56fd102-ddd1-48cd-bc3f-b491f92ef2dd",
        "colab": {
          "base_uri": "https://localhost:8080/"
        }
      },
      "id": "UFa5oiwl6hpK",
      "execution_count": 75,
      "outputs": [
        {
          "output_type": "stream",
          "name": "stdout",
          "text": [
            "점수: 0.9874213836477987\n",
            "실행 시간: 277.9962468147278\n"
          ]
        }
      ]
    },
    {
      "cell_type": "code",
      "source": [
        "start = time.time()\n",
        "xg_cls = XGBClassifier(n_estimators = 100, max_depth = 2)\n",
        "xg_cls.fit(x_train, y_train)\n",
        "y_pred = xg_cls.predict(x_test)\n",
        "score = accuracy_score(y_test, y_pred)\n",
        "end = time.time()\n",
        "print('점수:', score)\n",
        "print('실행 시간:', end - start)"
      ],
      "metadata": {
        "id": "Y59u_gyM7FtM",
        "outputId": "1341e729-5cbe-4208-eeb4-6eb30b7c9fe9",
        "colab": {
          "base_uri": "https://localhost:8080/"
        }
      },
      "id": "Y59u_gyM7FtM",
      "execution_count": 76,
      "outputs": [
        {
          "output_type": "stream",
          "name": "stdout",
          "text": [
            "점수: 0.9913522012578616\n",
            "실행 시간: 45.969202756881714\n"
          ]
        }
      ]
    }
  ],
  "metadata": {
    "kernelspec": {
      "display_name": "Python 3 (ipykernel)",
      "language": "python",
      "name": "python3"
    },
    "language_info": {
      "codemirror_mode": {
        "name": "ipython",
        "version": 3
      },
      "file_extension": ".py",
      "mimetype": "text/x-python",
      "name": "python",
      "nbconvert_exporter": "python",
      "pygments_lexer": "ipython3",
      "version": "3.9.7"
    },
    "colab": {
      "name": "00. Untitled.ipynb",
      "provenance": [],
      "include_colab_link": true
    }
  },
  "nbformat": 4,
  "nbformat_minor": 5
}