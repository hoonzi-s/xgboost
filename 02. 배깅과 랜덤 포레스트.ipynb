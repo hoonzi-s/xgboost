{
  "cells": [
    {
      "cell_type": "markdown",
      "metadata": {
        "id": "view-in-github",
        "colab_type": "text"
      },
      "source": [
        "<a href=\"https://colab.research.google.com/github/hoonzi-s/xgboost/blob/main/02.%20%EB%B0%B0%EA%B9%85%EA%B3%BC%20%EB%9E%9C%EB%8D%A4%20%ED%8F%AC%EB%A0%88%EC%8A%A4%ED%8A%B8.ipynb\" target=\"_parent\"><img src=\"https://colab.research.google.com/assets/colab-badge.svg\" alt=\"Open In Colab\"/></a>"
      ]
    },
    {
      "cell_type": "code",
      "execution_count": 92,
      "id": "01f25715",
      "metadata": {
        "id": "01f25715"
      },
      "outputs": [],
      "source": [
        "import pandas as pd\n",
        "import numpy as np\n",
        "from sklearn.ensemble import RandomForestClassifier\n",
        "from sklearn.model_selection import cross_val_score\n",
        "import warnings\n",
        "warnings.filterwarnings('ignore')"
      ]
    },
    {
      "cell_type": "code",
      "source": [
        "head = 'https://raw.githubusercontent.com/rickiepark/handson-gb/main/Chapter'\n",
        "tail = '03/census_cleaned.csv'\n",
        "link = head + tail\n",
        "df_census = pd.read_csv(link)\n",
        "X_census = df_census.iloc[:, :-1]\n",
        "y_census = df_census.iloc[:, -1]"
      ],
      "metadata": {
        "id": "6k0VhSB47jWy"
      },
      "id": "6k0VhSB47jWy",
      "execution_count": 93,
      "outputs": []
    },
    {
      "cell_type": "code",
      "source": [
        "rf = RandomForestClassifier(n_estimators = 10, n_jobs = -1, random_state = 2)\n",
        "scores = cross_val_score(rf, X_census, y_census, cv = 5)\n",
        "print(f'정확도: {np.round(scores, 3)}')\n",
        "print(f'정확도 평균: {scores.mean():.3f}')"
      ],
      "metadata": {
        "id": "0FguCbk58GDf",
        "colab": {
          "base_uri": "https://localhost:8080/"
        },
        "outputId": "fd6b6e56-914c-47a0-97fb-0572482615f5"
      },
      "id": "0FguCbk58GDf",
      "execution_count": 97,
      "outputs": [
        {
          "output_type": "stream",
          "name": "stdout",
          "text": [
            "정확도: [0.851 0.844 0.851 0.852 0.851]\n",
            "정확도 평균: 0.850\n"
          ]
        }
      ]
    },
    {
      "cell_type": "code",
      "source": [
        "tail = '03/bike_rentals_cleaned.csv'\n",
        "link = head + tail\n",
        "df_bikes = pd.read_csv(link)\n",
        "df_bikes.head()"
      ],
      "metadata": {
        "id": "LRMTBtyIOIYn",
        "outputId": "4f0eff00-94a8-45a1-85fe-065f795c27e0",
        "colab": {
          "base_uri": "https://localhost:8080/",
          "height": 206
        }
      },
      "id": "LRMTBtyIOIYn",
      "execution_count": 98,
      "outputs": [
        {
          "output_type": "execute_result",
          "data": {
            "text/plain": [
              "   instant  season   yr  mnth  holiday  weekday  workingday  weathersit  \\\n",
              "0        1     1.0  0.0   1.0      0.0      6.0         0.0           2   \n",
              "1        2     1.0  0.0   1.0      0.0      0.0         0.0           2   \n",
              "2        3     1.0  0.0   1.0      0.0      1.0         1.0           1   \n",
              "3        4     1.0  0.0   1.0      0.0      2.0         1.0           1   \n",
              "4        5     1.0  0.0   1.0      0.0      3.0         1.0           1   \n",
              "\n",
              "       temp     atemp       hum  windspeed   cnt  \n",
              "0  0.344167  0.363625  0.805833   0.160446   985  \n",
              "1  0.363478  0.353739  0.696087   0.248539   801  \n",
              "2  0.196364  0.189405  0.437273   0.248309  1349  \n",
              "3  0.200000  0.212122  0.590435   0.160296  1562  \n",
              "4  0.226957  0.229270  0.436957   0.186900  1600  "
            ],
            "text/html": [
              "\n",
              "  <div id=\"df-d31d02af-e79a-40a0-b028-42e549e24a7e\">\n",
              "    <div class=\"colab-df-container\">\n",
              "      <div>\n",
              "<style scoped>\n",
              "    .dataframe tbody tr th:only-of-type {\n",
              "        vertical-align: middle;\n",
              "    }\n",
              "\n",
              "    .dataframe tbody tr th {\n",
              "        vertical-align: top;\n",
              "    }\n",
              "\n",
              "    .dataframe thead th {\n",
              "        text-align: right;\n",
              "    }\n",
              "</style>\n",
              "<table border=\"1\" class=\"dataframe\">\n",
              "  <thead>\n",
              "    <tr style=\"text-align: right;\">\n",
              "      <th></th>\n",
              "      <th>instant</th>\n",
              "      <th>season</th>\n",
              "      <th>yr</th>\n",
              "      <th>mnth</th>\n",
              "      <th>holiday</th>\n",
              "      <th>weekday</th>\n",
              "      <th>workingday</th>\n",
              "      <th>weathersit</th>\n",
              "      <th>temp</th>\n",
              "      <th>atemp</th>\n",
              "      <th>hum</th>\n",
              "      <th>windspeed</th>\n",
              "      <th>cnt</th>\n",
              "    </tr>\n",
              "  </thead>\n",
              "  <tbody>\n",
              "    <tr>\n",
              "      <th>0</th>\n",
              "      <td>1</td>\n",
              "      <td>1.0</td>\n",
              "      <td>0.0</td>\n",
              "      <td>1.0</td>\n",
              "      <td>0.0</td>\n",
              "      <td>6.0</td>\n",
              "      <td>0.0</td>\n",
              "      <td>2</td>\n",
              "      <td>0.344167</td>\n",
              "      <td>0.363625</td>\n",
              "      <td>0.805833</td>\n",
              "      <td>0.160446</td>\n",
              "      <td>985</td>\n",
              "    </tr>\n",
              "    <tr>\n",
              "      <th>1</th>\n",
              "      <td>2</td>\n",
              "      <td>1.0</td>\n",
              "      <td>0.0</td>\n",
              "      <td>1.0</td>\n",
              "      <td>0.0</td>\n",
              "      <td>0.0</td>\n",
              "      <td>0.0</td>\n",
              "      <td>2</td>\n",
              "      <td>0.363478</td>\n",
              "      <td>0.353739</td>\n",
              "      <td>0.696087</td>\n",
              "      <td>0.248539</td>\n",
              "      <td>801</td>\n",
              "    </tr>\n",
              "    <tr>\n",
              "      <th>2</th>\n",
              "      <td>3</td>\n",
              "      <td>1.0</td>\n",
              "      <td>0.0</td>\n",
              "      <td>1.0</td>\n",
              "      <td>0.0</td>\n",
              "      <td>1.0</td>\n",
              "      <td>1.0</td>\n",
              "      <td>1</td>\n",
              "      <td>0.196364</td>\n",
              "      <td>0.189405</td>\n",
              "      <td>0.437273</td>\n",
              "      <td>0.248309</td>\n",
              "      <td>1349</td>\n",
              "    </tr>\n",
              "    <tr>\n",
              "      <th>3</th>\n",
              "      <td>4</td>\n",
              "      <td>1.0</td>\n",
              "      <td>0.0</td>\n",
              "      <td>1.0</td>\n",
              "      <td>0.0</td>\n",
              "      <td>2.0</td>\n",
              "      <td>1.0</td>\n",
              "      <td>1</td>\n",
              "      <td>0.200000</td>\n",
              "      <td>0.212122</td>\n",
              "      <td>0.590435</td>\n",
              "      <td>0.160296</td>\n",
              "      <td>1562</td>\n",
              "    </tr>\n",
              "    <tr>\n",
              "      <th>4</th>\n",
              "      <td>5</td>\n",
              "      <td>1.0</td>\n",
              "      <td>0.0</td>\n",
              "      <td>1.0</td>\n",
              "      <td>0.0</td>\n",
              "      <td>3.0</td>\n",
              "      <td>1.0</td>\n",
              "      <td>1</td>\n",
              "      <td>0.226957</td>\n",
              "      <td>0.229270</td>\n",
              "      <td>0.436957</td>\n",
              "      <td>0.186900</td>\n",
              "      <td>1600</td>\n",
              "    </tr>\n",
              "  </tbody>\n",
              "</table>\n",
              "</div>\n",
              "      <button class=\"colab-df-convert\" onclick=\"convertToInteractive('df-d31d02af-e79a-40a0-b028-42e549e24a7e')\"\n",
              "              title=\"Convert this dataframe to an interactive table.\"\n",
              "              style=\"display:none;\">\n",
              "        \n",
              "  <svg xmlns=\"http://www.w3.org/2000/svg\" height=\"24px\"viewBox=\"0 0 24 24\"\n",
              "       width=\"24px\">\n",
              "    <path d=\"M0 0h24v24H0V0z\" fill=\"none\"/>\n",
              "    <path d=\"M18.56 5.44l.94 2.06.94-2.06 2.06-.94-2.06-.94-.94-2.06-.94 2.06-2.06.94zm-11 1L8.5 8.5l.94-2.06 2.06-.94-2.06-.94L8.5 2.5l-.94 2.06-2.06.94zm10 10l.94 2.06.94-2.06 2.06-.94-2.06-.94-.94-2.06-.94 2.06-2.06.94z\"/><path d=\"M17.41 7.96l-1.37-1.37c-.4-.4-.92-.59-1.43-.59-.52 0-1.04.2-1.43.59L10.3 9.45l-7.72 7.72c-.78.78-.78 2.05 0 2.83L4 21.41c.39.39.9.59 1.41.59.51 0 1.02-.2 1.41-.59l7.78-7.78 2.81-2.81c.8-.78.8-2.07 0-2.86zM5.41 20L4 18.59l7.72-7.72 1.47 1.35L5.41 20z\"/>\n",
              "  </svg>\n",
              "      </button>\n",
              "      \n",
              "  <style>\n",
              "    .colab-df-container {\n",
              "      display:flex;\n",
              "      flex-wrap:wrap;\n",
              "      gap: 12px;\n",
              "    }\n",
              "\n",
              "    .colab-df-convert {\n",
              "      background-color: #E8F0FE;\n",
              "      border: none;\n",
              "      border-radius: 50%;\n",
              "      cursor: pointer;\n",
              "      display: none;\n",
              "      fill: #1967D2;\n",
              "      height: 32px;\n",
              "      padding: 0 0 0 0;\n",
              "      width: 32px;\n",
              "    }\n",
              "\n",
              "    .colab-df-convert:hover {\n",
              "      background-color: #E2EBFA;\n",
              "      box-shadow: 0px 1px 2px rgba(60, 64, 67, 0.3), 0px 1px 3px 1px rgba(60, 64, 67, 0.15);\n",
              "      fill: #174EA6;\n",
              "    }\n",
              "\n",
              "    [theme=dark] .colab-df-convert {\n",
              "      background-color: #3B4455;\n",
              "      fill: #D2E3FC;\n",
              "    }\n",
              "\n",
              "    [theme=dark] .colab-df-convert:hover {\n",
              "      background-color: #434B5C;\n",
              "      box-shadow: 0px 1px 3px 1px rgba(0, 0, 0, 0.15);\n",
              "      filter: drop-shadow(0px 1px 2px rgba(0, 0, 0, 0.3));\n",
              "      fill: #FFFFFF;\n",
              "    }\n",
              "  </style>\n",
              "\n",
              "      <script>\n",
              "        const buttonEl =\n",
              "          document.querySelector('#df-d31d02af-e79a-40a0-b028-42e549e24a7e button.colab-df-convert');\n",
              "        buttonEl.style.display =\n",
              "          google.colab.kernel.accessAllowed ? 'block' : 'none';\n",
              "\n",
              "        async function convertToInteractive(key) {\n",
              "          const element = document.querySelector('#df-d31d02af-e79a-40a0-b028-42e549e24a7e');\n",
              "          const dataTable =\n",
              "            await google.colab.kernel.invokeFunction('convertToInteractive',\n",
              "                                                     [key], {});\n",
              "          if (!dataTable) return;\n",
              "\n",
              "          const docLinkHtml = 'Like what you see? Visit the ' +\n",
              "            '<a target=\"_blank\" href=https://colab.research.google.com/notebooks/data_table.ipynb>data table notebook</a>'\n",
              "            + ' to learn more about interactive tables.';\n",
              "          element.innerHTML = '';\n",
              "          dataTable['output_type'] = 'display_data';\n",
              "          await google.colab.output.renderOutput(dataTable, element);\n",
              "          const docLink = document.createElement('div');\n",
              "          docLink.innerHTML = docLinkHtml;\n",
              "          element.appendChild(docLink);\n",
              "        }\n",
              "      </script>\n",
              "    </div>\n",
              "  </div>\n",
              "  "
            ]
          },
          "metadata": {},
          "execution_count": 98
        }
      ]
    },
    {
      "cell_type": "code",
      "source": [
        "X_bikes = df_bikes.iloc[:, :-1]\n",
        "y_bikes = df_bikes.iloc[:, -1]\n",
        "\n",
        "from sklearn.ensemble import RandomForestRegressor\n",
        "rf = RandomForestRegressor(n_estimators = 10, n_jobs = -1, random_state = 2)\n",
        "scores = cross_val_score(rf, X_bikes, y_bikes, scoring = 'neg_mean_squared_error', cv = 10)\n",
        "rmse = np.sqrt(-scores)\n",
        "print(f'RMSE: {np.round(rmse, 3)}')\n",
        "print(f'RMSE 평균: {rmse.mean():.3f}')"
      ],
      "metadata": {
        "id": "azFwAmMdOVN6",
        "outputId": "c92ad897-1b31-4e18-9d3b-cced6a4367d5",
        "colab": {
          "base_uri": "https://localhost:8080/"
        }
      },
      "id": "azFwAmMdOVN6",
      "execution_count": 100,
      "outputs": [
        {
          "output_type": "stream",
          "name": "stdout",
          "text": [
            "RMSE: [ 801.486  579.987  551.347  846.698  895.05  1097.522  893.738  809.284\n",
            "  833.488 2145.046]\n",
            "RMSE 평균: 945.365\n"
          ]
        }
      ]
    },
    {
      "cell_type": "code",
      "source": [
        "rf = RandomForestClassifier(oob_score = True, n_jobs = -1, random_state = 2, n_estimators = 10)\n",
        "rf.fit(X_census, y_census)\n",
        "rf.oob_score_"
      ],
      "metadata": {
        "id": "266_i2yeSnp9",
        "outputId": "cbd49b02-8fd2-4626-f327-9f2757d6c1d3",
        "colab": {
          "base_uri": "https://localhost:8080/"
        }
      },
      "id": "266_i2yeSnp9",
      "execution_count": 102,
      "outputs": [
        {
          "output_type": "execute_result",
          "data": {
            "text/plain": [
              "0.8343109855348423"
            ]
          },
          "metadata": {},
          "execution_count": 102
        }
      ]
    },
    {
      "cell_type": "code",
      "source": [
        "rf = RandomForestClassifier(oob_score = True, n_jobs = -1, random_state = 2, n_estimators = 50)\n",
        "rf.fit(X_census, y_census)\n",
        "rf.oob_score_"
      ],
      "metadata": {
        "id": "auzLTTYGTBAN",
        "outputId": "11133a83-c052-49ae-9e25-e185994b815f",
        "colab": {
          "base_uri": "https://localhost:8080/"
        }
      },
      "id": "auzLTTYGTBAN",
      "execution_count": 103,
      "outputs": [
        {
          "output_type": "execute_result",
          "data": {
            "text/plain": [
              "0.8518780135745216"
            ]
          },
          "metadata": {},
          "execution_count": 103
        }
      ]
    },
    {
      "cell_type": "code",
      "source": [
        "rf = RandomForestClassifier(oob_score = True, n_jobs = -1, random_state = 2, n_estimators = 100)\n",
        "rf.fit(X_census, y_census)\n",
        "rf.oob_score_"
      ],
      "metadata": {
        "id": "uV8-sQv4TISU",
        "outputId": "a88c87fa-e313-4769-fd78-56cba5644cca",
        "colab": {
          "base_uri": "https://localhost:8080/"
        }
      },
      "id": "uV8-sQv4TISU",
      "execution_count": 104,
      "outputs": [
        {
          "output_type": "execute_result",
          "data": {
            "text/plain": [
              "0.8551334418476091"
            ]
          },
          "metadata": {},
          "execution_count": 104
        }
      ]
    },
    {
      "cell_type": "code",
      "source": [
        "import matplotlib.pyplot as plt\n",
        "import seaborn as sns\n",
        "sns.set()"
      ],
      "metadata": {
        "id": "rvnxDWX8TKGE"
      },
      "id": "rvnxDWX8TKGE",
      "execution_count": 105,
      "outputs": []
    },
    {
      "cell_type": "code",
      "source": [
        "oob_scores = []\n",
        "rf = RandomForestClassifier(oob_score = True, random_state = 2, n_jobs = -1, warm_start = True, n_estimators = 50)\n",
        "rf.fit(X_census, y_census)\n",
        "oob_scores.append(rf.oob_score_)\n",
        "est = 50\n",
        "estimators = [est]"
      ],
      "metadata": {
        "id": "Q5k-wIB-TYCu"
      },
      "id": "Q5k-wIB-TYCu",
      "execution_count": 110,
      "outputs": []
    },
    {
      "cell_type": "code",
      "source": [
        "for i in range(9):\n",
        "  est += 50\n",
        "  estimators.append(est)\n",
        "  rf.set_params(n_estimators = est)\n",
        "  rf.fit(X_census, y_census)\n",
        "  oob_scores.append(rf.oob_score_)"
      ],
      "metadata": {
        "id": "I3YHH2fTTvr1"
      },
      "id": "I3YHH2fTTvr1",
      "execution_count": 111,
      "outputs": []
    },
    {
      "cell_type": "code",
      "source": [
        "plt.figure(figsize = (15, 7))\n",
        "plt.plot(estimators, oob_scores)\n",
        "plt.xlabel('# of trees')\n",
        "plt.ylabel('oob_score')\n",
        "plt.title('Random Forest Warm Start', fontsize = 15)\n",
        "plt.show()"
      ],
      "metadata": {
        "id": "sYImT1-gT8S1",
        "outputId": "e4ad1541-3f70-46a1-917e-cefd46055115",
        "colab": {
          "base_uri": "https://localhost:8080/",
          "height": 466
        }
      },
      "id": "sYImT1-gT8S1",
      "execution_count": 112,
      "outputs": [
        {
          "output_type": "display_data",
          "data": {
            "text/plain": [
              "<Figure size 1080x504 with 1 Axes>"
            ],
            "image/png": "[encoded data removed]"
          },
          "metadata": {}
        }
      ]
    },
    {
      "cell_type": "markdown",
      "source": [
        "#**3.4** 랜덤 포레스트 성능 높이기 - 사례 연구"
      ],
      "metadata": {
        "id": "rChifg71UTaG"
      },
      "id": "rChifg71UTaG"
    },
    {
      "cell_type": "code",
      "source": [
        "from sklearn.model_selection import train_test_split as tts\n",
        "X_train, X_test, y_train, y_test = tts(X_bikes, y_bikes,random_state = 2)"
      ],
      "metadata": {
        "id": "vtxv-sU7af7G"
      },
      "id": "vtxv-sU7af7G",
      "execution_count": 113,
      "outputs": []
    },
    {
      "cell_type": "code",
      "source": [
        "from sklearn.metrics import mean_squared_error as MSE\n",
        "rmse_scores = []\n",
        "estimators = []\n",
        "\n",
        "rf = RandomForestRegressor(warm_start = True, n_jobs = -1, random_state = 2)\n",
        "est = 10\n",
        "\n",
        "for i in range(21):\n",
        "  rf.set_params(n_estimators = est)\n",
        "  rf.fit(X_train, y_train)\n",
        "  rmse = MSE(y_test, rf.predict(X_test), squared = False)\n",
        "  rmse_scores.append(rmse)\n",
        "  estimators.append(est)\n",
        "\n",
        "  est += 25"
      ],
      "metadata": {
        "id": "m3Wm0ufUavL3"
      },
      "id": "m3Wm0ufUavL3",
      "execution_count": 114,
      "outputs": []
    },
    {
      "cell_type": "code",
      "source": [
        "plt.figure(figsize = (15, 7))\n",
        "plt.plot(estimators, rmse_scores)\n",
        "plt.xlabel('# of trees')\n",
        "plt.ylabel('RMSE')\n",
        "plt.title('Random Forest Bike Rentals', fontsize = 15)\n",
        "plt.show()"
      ],
      "metadata": {
        "id": "Semie1XIbUWH",
        "outputId": "8893c075-17b8-4185-b2b5-990364e3bb95",
        "colab": {
          "base_uri": "https://localhost:8080/",
          "height": 466
        }
      },
      "id": "Semie1XIbUWH",
      "execution_count": 115,
      "outputs": [
        {
          "output_type": "display_data",
          "data": {
            "text/plain": [
              "<Figure size 1080x504 with 1 Axes>"
            ],
            "image/png": "[encoded data removed]"
          },
          "metadata": {}
        }
      ]
    },
    {
      "cell_type": "code",
      "source": [
        "rf = RandomForestRegressor(n_estimators = 50, warm_start = True, n_jobs = -1, random_state = 2)\n",
        "scores = cross_val_score(rf, X_bikes, y_bikes, scoring = 'neg_mean_squared_error', cv = 10)\n",
        "rmse = np.sqrt(-scores)\n",
        "print(f'RMSE: {np.round(rmse, 3)}')\n",
        "print(f'RMSE 평균: {rmse.mean():.3f}')"
      ],
      "metadata": {
        "id": "tClGHqANbhIY",
        "outputId": "a2e00e98-f320-4370-daa9-f3119cf668cf",
        "colab": {
          "base_uri": "https://localhost:8080/"
        }
      },
      "id": "tClGHqANbhIY",
      "execution_count": 118,
      "outputs": [
        {
          "output_type": "stream",
          "name": "stdout",
          "text": [
            "RMSE: [ 836.482  541.898  533.086  812.782  894.877  881.117  794.103  828.968\n",
            "  772.517 2128.148]\n",
            "RMSE 평균: 902.398\n"
          ]
        }
      ]
    },
    {
      "cell_type": "code",
      "source": [
        "from sklearn.model_selection import RandomizedSearchCV\n",
        "\n",
        "def randomized_search_reg(params, runs = 16, reg = RandomForestRegressor(random_state = 2, n_jobs = -1)):\n",
        "  rand_reg = RandomizedSearchCV(reg, params, n_iter = runs, scoring = 'neg_mean_squared_error', n_jobs = -1, random_state = 2, cv = 10)\n",
        "  rand_reg.fit(X_train, y_train)\n",
        "  best_model = rand_reg.best_estimator_\n",
        "  best_params = rand_reg.best_params_\n",
        "  print('최상의 매개변수:', best_params)\n",
        "  best_score = np.sqrt(-rand_reg.best_score_)\n",
        "  print('훈련 점수:', np.round(best_score, 3))\n",
        "  y_pred = best_model.predict(X_test)\n",
        "  rmse_test = MSE(y_test, y_pred) ** 0.5\n",
        "  print(f'테스트 세트 점수: {rmse_test:.3f}')"
      ],
      "metadata": {
        "id": "M9vNz8ZCbj5t"
      },
      "id": "M9vNz8ZCbj5t",
      "execution_count": 132,
      "outputs": []
    },
    {
      "cell_type": "code",
      "source": [
        "params={'min_weight_fraction_leaf':[0.0, 0.0025, 0.005, 0.0075, 0.01, 0.05],\n",
        "            'min_samples_split':[2, 0.01, 0.02, 0.03, 0.04, 0.06, 0.08, 0.1],\n",
        "            'min_samples_leaf':[1,2,4,6,8,10,20,30],\n",
        "            'min_impurity_decrease':[0.0, 0.01, 0.05, 0.10, 0.15, 0.2],\n",
        "            'max_leaf_nodes':[10, 15, 20, 25, 30, 35, 40, 45, 50, None],\n",
        "            'max_features':['sqrt', 0.8, 0.7, 0.6, 0.5, 0.4],\n",
        "            'max_depth':[None,2,4,6,8,10,20]}\n",
        "randomized_search_reg(params)"
      ],
      "metadata": {
        "id": "1Lizc-ZHgaqG",
        "outputId": "4fcb35cf-c3a7-4dfc-e5b6-5a641e6436e5",
        "colab": {
          "base_uri": "https://localhost:8080/"
        }
      },
      "id": "1Lizc-ZHgaqG",
      "execution_count": 133,
      "outputs": [
        {
          "output_type": "stream",
          "name": "stdout",
          "text": [
            "최상의 매개변수: {'min_weight_fraction_leaf': 0.0, 'min_samples_split': 0.03, 'min_samples_leaf': 6, 'min_impurity_decrease': 0.05, 'max_leaf_nodes': 25, 'max_features': 0.7, 'max_depth': None}\n",
            "훈련 점수: 759.076\n",
            "테스트 세트 점수: 701.802\n"
          ]
        }
      ]
    },
    {
      "cell_type": "code",
      "source": [
        "params={'min_samples_leaf':[1,2,4,6,8,10,20,30],\n",
        "            'min_impurity_decrease':[0.0, 0.01, 0.05, 0.10, 0.15, 0.2],\n",
        "            'max_features':['sqrt', 0.8, 0.7, 0.6, 0.5, 0.4],\n",
        "            'max_depth':[None,2,4,6,8,10,20]}\n",
        "randomized_search_reg(params)"
      ],
      "metadata": {
        "id": "Zo64TGIogij0",
        "outputId": "2189fcb1-15d7-41c7-b658-52056c77669c",
        "colab": {
          "base_uri": "https://localhost:8080/"
        }
      },
      "id": "Zo64TGIogij0",
      "execution_count": 134,
      "outputs": [
        {
          "output_type": "stream",
          "name": "stdout",
          "text": [
            "최상의 매개변수: {'min_samples_leaf': 1, 'min_impurity_decrease': 0.1, 'max_features': 0.6, 'max_depth': 10}\n",
            "훈련 점수: 679.052\n",
            "테스트 세트 점수: 626.541\n"
          ]
        }
      ]
    },
    {
      "cell_type": "code",
      "source": [
        "params={'min_samples_leaf':[1,2,4,6,8,10,20,30],\n",
        "            'min_impurity_decrease':[0.0, 0.01, 0.05, 0.10, 0.15, 0.2],\n",
        "            'max_features':['sqrt', 0.8, 0.7, 0.6, 0.5, 0.4],\n",
        "            'max_depth':[None,4,6,8,10,12,15,20]}\n",
        "\n",
        "randomized_search_reg(params, runs = 20)            "
      ],
      "metadata": {
        "id": "VCBSqgZZgrUt",
        "outputId": "97fab350-421b-4f95-e5d3-66c403ad643f",
        "colab": {
          "base_uri": "https://localhost:8080/"
        }
      },
      "id": "VCBSqgZZgrUt",
      "execution_count": 135,
      "outputs": [
        {
          "output_type": "stream",
          "name": "stdout",
          "text": [
            "최상의 매개변수: {'min_samples_leaf': 1, 'min_impurity_decrease': 0.1, 'max_features': 0.6, 'max_depth': 12}\n",
            "훈련 점수: 675.128\n",
            "테스트 세트 점수: 619.014\n"
          ]
        }
      ]
    },
    {
      "cell_type": "code",
      "source": [
        "params={'min_samples_leaf':[1,2,3,4,5,6],\n",
        "            'min_impurity_decrease':[0.0, 0.01, 0.05, 0.08, 0.10, 0.12, 0.15],\n",
        "            'max_features':['sqrt', 0.8, 0.7, 0.6, 0.5, 0.4],\n",
        "            'max_depth':[None,8,10,12,14,16,18,20]}\n",
        "randomized_search_reg(params)"
      ],
      "metadata": {
        "id": "i9d87NFJg_j9",
        "outputId": "25b1e2c9-f530-4685-eee5-0ce46c885ac1",
        "colab": {
          "base_uri": "https://localhost:8080/"
        }
      },
      "id": "i9d87NFJg_j9",
      "execution_count": 136,
      "outputs": [
        {
          "output_type": "stream",
          "name": "stdout",
          "text": [
            "최상의 매개변수: {'min_samples_leaf': 1, 'min_impurity_decrease': 0.05, 'max_features': 0.7, 'max_depth': 18}\n",
            "훈련 점수: 679.595\n",
            "테스트 세트 점수: 630.954\n"
          ]
        }
      ]
    },
    {
      "cell_type": "code",
      "source": [
        "params={'min_samples_leaf':[1,2,4,6,8,10,20,30],\n",
        "            'min_impurity_decrease':[0.0, 0.01, 0.05, 0.10, 0.15, 0.2],\n",
        "            'max_features':['sqrt', 0.8, 0.7, 0.6, 0.5, 0.4],\n",
        "            'max_depth':[None,4,6,8,10,12,15,20],\n",
        "            'n_estimators':[100]}\n",
        "randomized_search_reg(params, runs = 20)"
      ],
      "metadata": {
        "id": "QDuquDHMlwR6",
        "outputId": "91f97270-7178-4da9-e57b-1c1e6d1e46cd",
        "colab": {
          "base_uri": "https://localhost:8080/"
        }
      },
      "id": "QDuquDHMlwR6",
      "execution_count": 137,
      "outputs": [
        {
          "output_type": "stream",
          "name": "stdout",
          "text": [
            "최상의 매개변수: {'n_estimators': 100, 'min_samples_leaf': 1, 'min_impurity_decrease': 0.1, 'max_features': 0.6, 'max_depth': 12}\n",
            "훈련 점수: 675.128\n",
            "테스트 세트 점수: 619.014\n"
          ]
        }
      ]
    },
    {
      "cell_type": "code",
      "source": [
        "rf = RandomForestRegressor(n_estimators = 100, min_impurity_decrease = 0.1, max_features = 0.6, max_depth = 12, n_jobs = -1, random_state = 2)\n",
        "scores = cross_val_score(rf, X_bikes, y_bikes, scoring = 'neg_mean_squared_error', cv = 10)\n",
        "rmse = np.sqrt(-scores)\n",
        "print(f'RMSE: {np.round(rmse, 3)}')\n",
        "print(f'RMSE 평균: {rmse.mean():.3f}')"
      ],
      "metadata": {
        "id": "a6YOtBS8mCE4",
        "outputId": "f69e0a8b-6737-46da-8e9c-109bb496f9c4",
        "colab": {
          "base_uri": "https://localhost:8080/"
        }
      },
      "id": "a6YOtBS8mCE4",
      "execution_count": 139,
      "outputs": [
        {
          "output_type": "stream",
          "name": "stdout",
          "text": [
            "RMSE: [ 818.354  514.173  547.392  814.059  769.54   730.025  831.376  794.634\n",
            "  756.83  1595.237]\n",
            "RMSE 평균: 817.162\n"
          ]
        }
      ]
    },
    {
      "cell_type": "code",
      "source": [
        "from sklearn.utils import shuffle\n",
        "df_bikes_shuffle = shuffle(df_bikes, random_state = 2)\n",
        "X_bikes_shuffle = df_bikes_shuffle.iloc[:, :-1]\n",
        "y_bikes_shuffle = df_bikes_shuffle.iloc[:, -1]"
      ],
      "metadata": {
        "id": "GlYwe03pmfbq"
      },
      "id": "GlYwe03pmfbq",
      "execution_count": 141,
      "outputs": []
    },
    {
      "cell_type": "code",
      "source": [
        "rf = RandomForestRegressor(n_estimators = 100, min_impurity_decrease = 0.1, max_features = 0.6, max_depth = 12, n_jobs = -1, random_state = 2)\n",
        "scores = cross_val_score(rf, X_bikes_shuffle, y_bikes_shuffle, scoring = 'neg_mean_squared_error', cv = 10)\n",
        "rmse = np.sqrt(-scores)\n",
        "print(f'RMSE: {np.round(rmse, 3)}')\n",
        "print(f'RMSE 평균: {rmse.mean():.3f}')"
      ],
      "metadata": {
        "id": "M_p8RJlPmxZy",
        "outputId": "73cf0f37-4a92-4b09-adcc-8223df75c5b5",
        "colab": {
          "base_uri": "https://localhost:8080/"
        }
      },
      "id": "M_p8RJlPmxZy",
      "execution_count": 142,
      "outputs": [
        {
          "output_type": "stream",
          "name": "stdout",
          "text": [
            "RMSE: [630.093 686.673 468.159 526.676 593.033 724.575 774.402 672.63  760.253\n",
            " 616.797]\n",
            "RMSE 평균: 645.329\n"
          ]
        }
      ]
    },
    {
      "cell_type": "code",
      "source": [
        ""
      ],
      "metadata": {
        "id": "9_DonUr8m6Qq"
      },
      "id": "9_DonUr8m6Qq",
      "execution_count": null,
      "outputs": []
    }
  ],
  "metadata": {
    "kernelspec": {
      "display_name": "Python 3 (ipykernel)",
      "language": "python",
      "name": "python3"
    },
    "language_info": {
      "codemirror_mode": {
        "name": "ipython",
        "version": 3
      },
      "file_extension": ".py",
      "mimetype": "text/x-python",
      "name": "python",
      "nbconvert_exporter": "python",
      "pygments_lexer": "ipython3",
      "version": "3.9.7"
    },
    "colab": {
      "name": "00. Untitled.ipynb",
      "provenance": [],
      "include_colab_link": true
    }
  },
  "nbformat": 4,
  "nbformat_minor": 5
}